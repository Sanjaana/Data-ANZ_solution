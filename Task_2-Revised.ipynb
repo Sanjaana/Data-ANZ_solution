{
 "cells": [
  {
   "cell_type": "code",
   "execution_count": 1,
   "metadata": {},
   "outputs": [],
   "source": [
    "import pandas as pd\n",
    "import numpy as np\n",
    "##Visualization imports\n",
    "import matplotlib.pyplot as plt\n",
    "import seaborn as sns\n",
    "sns.set_style('darkgrid')\n",
    "%matplotlib inline"
   ]
  },
  {
   "cell_type": "code",
   "execution_count": 2,
   "metadata": {},
   "outputs": [],
   "source": [
    "transact=pd.read_excel('Transaction dataset.xlsx')"
   ]
  },
  {
   "cell_type": "code",
   "execution_count": 3,
   "metadata": {
    "scrolled": true
   },
   "outputs": [
    {
     "data": {
      "text/html": [
       "<div>\n",
       "<style scoped>\n",
       "    .dataframe tbody tr th:only-of-type {\n",
       "        vertical-align: middle;\n",
       "    }\n",
       "\n",
       "    .dataframe tbody tr th {\n",
       "        vertical-align: top;\n",
       "    }\n",
       "\n",
       "    .dataframe thead th {\n",
       "        text-align: right;\n",
       "    }\n",
       "</style>\n",
       "<table border=\"1\" class=\"dataframe\">\n",
       "  <thead>\n",
       "    <tr style=\"text-align: right;\">\n",
       "      <th></th>\n",
       "      <th>status</th>\n",
       "      <th>card_present_flag</th>\n",
       "      <th>bpay_biller_code</th>\n",
       "      <th>account</th>\n",
       "      <th>currency</th>\n",
       "      <th>long_lat</th>\n",
       "      <th>txn_description</th>\n",
       "      <th>merchant_id</th>\n",
       "      <th>merchant_code</th>\n",
       "      <th>first_name</th>\n",
       "      <th>...</th>\n",
       "      <th>age</th>\n",
       "      <th>merchant_suburb</th>\n",
       "      <th>merchant_state</th>\n",
       "      <th>extraction</th>\n",
       "      <th>amount</th>\n",
       "      <th>transaction_id</th>\n",
       "      <th>country</th>\n",
       "      <th>customer_id</th>\n",
       "      <th>merchant_long_lat</th>\n",
       "      <th>movement</th>\n",
       "    </tr>\n",
       "  </thead>\n",
       "  <tbody>\n",
       "    <tr>\n",
       "      <th>0</th>\n",
       "      <td>authorized</td>\n",
       "      <td>1.0</td>\n",
       "      <td>NaN</td>\n",
       "      <td>ACC-1598451071</td>\n",
       "      <td>AUD</td>\n",
       "      <td>153.41 -27.95</td>\n",
       "      <td>POS</td>\n",
       "      <td>81c48296-73be-44a7-befa-d053f48ce7cd</td>\n",
       "      <td>NaN</td>\n",
       "      <td>Diana</td>\n",
       "      <td>...</td>\n",
       "      <td>26</td>\n",
       "      <td>Ashmore</td>\n",
       "      <td>QLD</td>\n",
       "      <td>2018-08-01T01:01:15.000+0000</td>\n",
       "      <td>16.25</td>\n",
       "      <td>a623070bfead4541a6b0fff8a09e706c</td>\n",
       "      <td>Australia</td>\n",
       "      <td>CUS-2487424745</td>\n",
       "      <td>153.38 -27.99</td>\n",
       "      <td>debit</td>\n",
       "    </tr>\n",
       "    <tr>\n",
       "      <th>1</th>\n",
       "      <td>authorized</td>\n",
       "      <td>0.0</td>\n",
       "      <td>NaN</td>\n",
       "      <td>ACC-1598451071</td>\n",
       "      <td>AUD</td>\n",
       "      <td>153.41 -27.95</td>\n",
       "      <td>SALES-POS</td>\n",
       "      <td>830a451c-316e-4a6a-bf25-e37caedca49e</td>\n",
       "      <td>NaN</td>\n",
       "      <td>Diana</td>\n",
       "      <td>...</td>\n",
       "      <td>26</td>\n",
       "      <td>Sydney</td>\n",
       "      <td>NSW</td>\n",
       "      <td>2018-08-01T01:13:45.000+0000</td>\n",
       "      <td>14.19</td>\n",
       "      <td>13270a2a902145da9db4c951e04b51b9</td>\n",
       "      <td>Australia</td>\n",
       "      <td>CUS-2487424745</td>\n",
       "      <td>151.21 -33.87</td>\n",
       "      <td>debit</td>\n",
       "    </tr>\n",
       "    <tr>\n",
       "      <th>2</th>\n",
       "      <td>authorized</td>\n",
       "      <td>1.0</td>\n",
       "      <td>NaN</td>\n",
       "      <td>ACC-1222300524</td>\n",
       "      <td>AUD</td>\n",
       "      <td>151.23 -33.94</td>\n",
       "      <td>POS</td>\n",
       "      <td>835c231d-8cdf-4e96-859d-e9d571760cf0</td>\n",
       "      <td>NaN</td>\n",
       "      <td>Michael</td>\n",
       "      <td>...</td>\n",
       "      <td>38</td>\n",
       "      <td>Sydney</td>\n",
       "      <td>NSW</td>\n",
       "      <td>2018-08-01T01:26:15.000+0000</td>\n",
       "      <td>6.42</td>\n",
       "      <td>feb79e7ecd7048a5a36ec889d1a94270</td>\n",
       "      <td>Australia</td>\n",
       "      <td>CUS-2142601169</td>\n",
       "      <td>151.21 -33.87</td>\n",
       "      <td>debit</td>\n",
       "    </tr>\n",
       "  </tbody>\n",
       "</table>\n",
       "<p>3 rows × 23 columns</p>\n",
       "</div>"
      ],
      "text/plain": [
       "       status  card_present_flag bpay_biller_code         account currency  \\\n",
       "0  authorized                1.0              NaN  ACC-1598451071      AUD   \n",
       "1  authorized                0.0              NaN  ACC-1598451071      AUD   \n",
       "2  authorized                1.0              NaN  ACC-1222300524      AUD   \n",
       "\n",
       "        long_lat txn_description                           merchant_id  \\\n",
       "0  153.41 -27.95             POS  81c48296-73be-44a7-befa-d053f48ce7cd   \n",
       "1  153.41 -27.95       SALES-POS  830a451c-316e-4a6a-bf25-e37caedca49e   \n",
       "2  151.23 -33.94             POS  835c231d-8cdf-4e96-859d-e9d571760cf0   \n",
       "\n",
       "   merchant_code first_name  ...  age merchant_suburb merchant_state  \\\n",
       "0            NaN      Diana  ...   26         Ashmore            QLD   \n",
       "1            NaN      Diana  ...   26          Sydney            NSW   \n",
       "2            NaN    Michael  ...   38          Sydney            NSW   \n",
       "\n",
       "                     extraction amount                    transaction_id  \\\n",
       "0  2018-08-01T01:01:15.000+0000  16.25  a623070bfead4541a6b0fff8a09e706c   \n",
       "1  2018-08-01T01:13:45.000+0000  14.19  13270a2a902145da9db4c951e04b51b9   \n",
       "2  2018-08-01T01:26:15.000+0000   6.42  feb79e7ecd7048a5a36ec889d1a94270   \n",
       "\n",
       "     country     customer_id merchant_long_lat movement  \n",
       "0  Australia  CUS-2487424745     153.38 -27.99    debit  \n",
       "1  Australia  CUS-2487424745     151.21 -33.87    debit  \n",
       "2  Australia  CUS-2142601169     151.21 -33.87    debit  \n",
       "\n",
       "[3 rows x 23 columns]"
      ]
     },
     "execution_count": 3,
     "metadata": {},
     "output_type": "execute_result"
    }
   ],
   "source": [
    "transact.head(3)"
   ]
  },
  {
   "cell_type": "code",
   "execution_count": 4,
   "metadata": {},
   "outputs": [
    {
     "name": "stdout",
     "output_type": "stream",
     "text": [
      "<class 'pandas.core.frame.DataFrame'>\n",
      "RangeIndex: 12043 entries, 0 to 12042\n",
      "Data columns (total 23 columns):\n",
      " #   Column             Non-Null Count  Dtype         \n",
      "---  ------             --------------  -----         \n",
      " 0   status             12043 non-null  object        \n",
      " 1   card_present_flag  7717 non-null   float64       \n",
      " 2   bpay_biller_code   885 non-null    object        \n",
      " 3   account            12043 non-null  object        \n",
      " 4   currency           12043 non-null  object        \n",
      " 5   long_lat           12043 non-null  object        \n",
      " 6   txn_description    12043 non-null  object        \n",
      " 7   merchant_id        7717 non-null   object        \n",
      " 8   merchant_code      883 non-null    float64       \n",
      " 9   first_name         12043 non-null  object        \n",
      " 10  balance            12043 non-null  float64       \n",
      " 11  date               12043 non-null  datetime64[ns]\n",
      " 12  gender             12043 non-null  object        \n",
      " 13  age                12043 non-null  int64         \n",
      " 14  merchant_suburb    7717 non-null   object        \n",
      " 15  merchant_state     7717 non-null   object        \n",
      " 16  extraction         12043 non-null  object        \n",
      " 17  amount             12043 non-null  float64       \n",
      " 18  transaction_id     12043 non-null  object        \n",
      " 19  country            12043 non-null  object        \n",
      " 20  customer_id        12043 non-null  object        \n",
      " 21  merchant_long_lat  7717 non-null   object        \n",
      " 22  movement           12043 non-null  object        \n",
      "dtypes: datetime64[ns](1), float64(4), int64(1), object(17)\n",
      "memory usage: 2.1+ MB\n"
     ]
    }
   ],
   "source": [
    "#Number of columns in the dataset and their type\n",
    "transact.info()"
   ]
  },
  {
   "cell_type": "code",
   "execution_count": 5,
   "metadata": {},
   "outputs": [
    {
     "data": {
      "text/plain": [
       "0        2018-08-01T01:01:15.000+0000\n",
       "1        2018-08-01T01:13:45.000+0000\n",
       "2        2018-08-01T01:26:15.000+0000\n",
       "3        2018-08-01T01:38:45.000+0000\n",
       "4        2018-08-01T01:51:15.000+0000\n",
       "                     ...             \n",
       "12038    2018-10-31T23:09:06.000+0000\n",
       "12039    2018-10-31T23:21:46.000+0000\n",
       "12040    2018-10-31T23:34:25.000+0000\n",
       "12041    2018-10-31T23:47:05.000+0000\n",
       "12042    2018-10-31T23:59:44.000+0000\n",
       "Name: extraction, Length: 12043, dtype: object"
      ]
     },
     "execution_count": 5,
     "metadata": {},
     "output_type": "execute_result"
    }
   ],
   "source": [
    "#Timeline of dataset: 3months\n",
    "transact['extraction']"
   ]
  },
  {
   "cell_type": "markdown",
   "metadata": {},
   "source": [
    "# Calculating the Annual Salary"
   ]
  },
  {
   "cell_type": "code",
   "execution_count": 6,
   "metadata": {},
   "outputs": [
    {
     "data": {
      "text/html": [
       "<div>\n",
       "<style scoped>\n",
       "    .dataframe tbody tr th:only-of-type {\n",
       "        vertical-align: middle;\n",
       "    }\n",
       "\n",
       "    .dataframe tbody tr th {\n",
       "        vertical-align: top;\n",
       "    }\n",
       "\n",
       "    .dataframe thead th {\n",
       "        text-align: right;\n",
       "    }\n",
       "</style>\n",
       "<table border=\"1\" class=\"dataframe\">\n",
       "  <thead>\n",
       "    <tr style=\"text-align: right;\">\n",
       "      <th></th>\n",
       "      <th>status</th>\n",
       "      <th>card_present_flag</th>\n",
       "      <th>bpay_biller_code</th>\n",
       "      <th>account</th>\n",
       "      <th>currency</th>\n",
       "      <th>long_lat</th>\n",
       "      <th>txn_description</th>\n",
       "      <th>merchant_id</th>\n",
       "      <th>merchant_code</th>\n",
       "      <th>first_name</th>\n",
       "      <th>...</th>\n",
       "      <th>age</th>\n",
       "      <th>merchant_suburb</th>\n",
       "      <th>merchant_state</th>\n",
       "      <th>extraction</th>\n",
       "      <th>amount</th>\n",
       "      <th>transaction_id</th>\n",
       "      <th>country</th>\n",
       "      <th>customer_id</th>\n",
       "      <th>merchant_long_lat</th>\n",
       "      <th>movement</th>\n",
       "    </tr>\n",
       "  </thead>\n",
       "  <tbody>\n",
       "    <tr>\n",
       "      <th>50</th>\n",
       "      <td>posted</td>\n",
       "      <td>NaN</td>\n",
       "      <td>0</td>\n",
       "      <td>ACC-588564840</td>\n",
       "      <td>AUD</td>\n",
       "      <td>151.27 -33.76</td>\n",
       "      <td>PAY/SALARY</td>\n",
       "      <td>NaN</td>\n",
       "      <td>0.0</td>\n",
       "      <td>Isaiah</td>\n",
       "      <td>...</td>\n",
       "      <td>23</td>\n",
       "      <td>NaN</td>\n",
       "      <td>NaN</td>\n",
       "      <td>2018-08-01T11:00:00.000+0000</td>\n",
       "      <td>3903.95</td>\n",
       "      <td>9ca281650e5d482d9e53f85e959baa66</td>\n",
       "      <td>Australia</td>\n",
       "      <td>CUS-1462656821</td>\n",
       "      <td>NaN</td>\n",
       "      <td>credit</td>\n",
       "    </tr>\n",
       "    <tr>\n",
       "      <th>61</th>\n",
       "      <td>posted</td>\n",
       "      <td>NaN</td>\n",
       "      <td>0</td>\n",
       "      <td>ACC-1650504218</td>\n",
       "      <td>AUD</td>\n",
       "      <td>145.01 -37.93</td>\n",
       "      <td>PAY/SALARY</td>\n",
       "      <td>NaN</td>\n",
       "      <td>0.0</td>\n",
       "      <td>Marissa</td>\n",
       "      <td>...</td>\n",
       "      <td>23</td>\n",
       "      <td>NaN</td>\n",
       "      <td>NaN</td>\n",
       "      <td>2018-08-01T12:00:00.000+0000</td>\n",
       "      <td>1626.48</td>\n",
       "      <td>1822eb0e1bbe4c9e95ebbb0fa2cc4323</td>\n",
       "      <td>Australia</td>\n",
       "      <td>CUS-2500783281</td>\n",
       "      <td>NaN</td>\n",
       "      <td>credit</td>\n",
       "    </tr>\n",
       "    <tr>\n",
       "      <th>64</th>\n",
       "      <td>posted</td>\n",
       "      <td>NaN</td>\n",
       "      <td>0</td>\n",
       "      <td>ACC-3326339947</td>\n",
       "      <td>AUD</td>\n",
       "      <td>151.18 -33.80</td>\n",
       "      <td>PAY/SALARY</td>\n",
       "      <td>NaN</td>\n",
       "      <td>0.0</td>\n",
       "      <td>Eric</td>\n",
       "      <td>...</td>\n",
       "      <td>22</td>\n",
       "      <td>NaN</td>\n",
       "      <td>NaN</td>\n",
       "      <td>2018-08-01T12:00:00.000+0000</td>\n",
       "      <td>983.36</td>\n",
       "      <td>bd62b1799a454cedbbb56364f7c40cbf</td>\n",
       "      <td>Australia</td>\n",
       "      <td>CUS-326006476</td>\n",
       "      <td>NaN</td>\n",
       "      <td>credit</td>\n",
       "    </tr>\n",
       "    <tr>\n",
       "      <th>68</th>\n",
       "      <td>posted</td>\n",
       "      <td>NaN</td>\n",
       "      <td>0</td>\n",
       "      <td>ACC-3541460373</td>\n",
       "      <td>AUD</td>\n",
       "      <td>145.00 -37.83</td>\n",
       "      <td>PAY/SALARY</td>\n",
       "      <td>NaN</td>\n",
       "      <td>0.0</td>\n",
       "      <td>Jeffrey</td>\n",
       "      <td>...</td>\n",
       "      <td>24</td>\n",
       "      <td>NaN</td>\n",
       "      <td>NaN</td>\n",
       "      <td>2018-08-01T13:00:00.000+0000</td>\n",
       "      <td>1408.08</td>\n",
       "      <td>0d95c7c932bb48e5b44c2637bdd3efe9</td>\n",
       "      <td>Australia</td>\n",
       "      <td>CUS-1433879684</td>\n",
       "      <td>NaN</td>\n",
       "      <td>credit</td>\n",
       "    </tr>\n",
       "    <tr>\n",
       "      <th>70</th>\n",
       "      <td>posted</td>\n",
       "      <td>NaN</td>\n",
       "      <td>0</td>\n",
       "      <td>ACC-2776252858</td>\n",
       "      <td>AUD</td>\n",
       "      <td>144.95 -37.76</td>\n",
       "      <td>PAY/SALARY</td>\n",
       "      <td>NaN</td>\n",
       "      <td>0.0</td>\n",
       "      <td>Kristin</td>\n",
       "      <td>...</td>\n",
       "      <td>43</td>\n",
       "      <td>NaN</td>\n",
       "      <td>NaN</td>\n",
       "      <td>2018-08-01T13:00:00.000+0000</td>\n",
       "      <td>1068.04</td>\n",
       "      <td>f50ccf1195214d14a0acbfcb5a265193</td>\n",
       "      <td>Australia</td>\n",
       "      <td>CUS-4123612273</td>\n",
       "      <td>NaN</td>\n",
       "      <td>credit</td>\n",
       "    </tr>\n",
       "    <tr>\n",
       "      <th>...</th>\n",
       "      <td>...</td>\n",
       "      <td>...</td>\n",
       "      <td>...</td>\n",
       "      <td>...</td>\n",
       "      <td>...</td>\n",
       "      <td>...</td>\n",
       "      <td>...</td>\n",
       "      <td>...</td>\n",
       "      <td>...</td>\n",
       "      <td>...</td>\n",
       "      <td>...</td>\n",
       "      <td>...</td>\n",
       "      <td>...</td>\n",
       "      <td>...</td>\n",
       "      <td>...</td>\n",
       "      <td>...</td>\n",
       "      <td>...</td>\n",
       "      <td>...</td>\n",
       "      <td>...</td>\n",
       "      <td>...</td>\n",
       "      <td>...</td>\n",
       "    </tr>\n",
       "    <tr>\n",
       "      <th>11995</th>\n",
       "      <td>posted</td>\n",
       "      <td>NaN</td>\n",
       "      <td>0</td>\n",
       "      <td>ACC-1973887809</td>\n",
       "      <td>AUD</td>\n",
       "      <td>115.78 -31.90</td>\n",
       "      <td>PAY/SALARY</td>\n",
       "      <td>NaN</td>\n",
       "      <td>0.0</td>\n",
       "      <td>Antonio</td>\n",
       "      <td>...</td>\n",
       "      <td>26</td>\n",
       "      <td>NaN</td>\n",
       "      <td>NaN</td>\n",
       "      <td>2018-10-31T16:00:00.000+0000</td>\n",
       "      <td>1098.91</td>\n",
       "      <td>0e6cffb4401043c891ab7a50ec594208</td>\n",
       "      <td>Australia</td>\n",
       "      <td>CUS-1646621553</td>\n",
       "      <td>NaN</td>\n",
       "      <td>credit</td>\n",
       "    </tr>\n",
       "    <tr>\n",
       "      <th>12000</th>\n",
       "      <td>posted</td>\n",
       "      <td>NaN</td>\n",
       "      <td>0</td>\n",
       "      <td>ACC-819621312</td>\n",
       "      <td>AUD</td>\n",
       "      <td>145.04 -37.85</td>\n",
       "      <td>PAY/SALARY</td>\n",
       "      <td>NaN</td>\n",
       "      <td>0.0</td>\n",
       "      <td>Michele</td>\n",
       "      <td>...</td>\n",
       "      <td>30</td>\n",
       "      <td>NaN</td>\n",
       "      <td>NaN</td>\n",
       "      <td>2018-10-31T17:00:00.000+0000</td>\n",
       "      <td>1158.15</td>\n",
       "      <td>ad13e06fffba4771b3c994f9147e68c0</td>\n",
       "      <td>Australia</td>\n",
       "      <td>CUS-1271030853</td>\n",
       "      <td>NaN</td>\n",
       "      <td>credit</td>\n",
       "    </tr>\n",
       "    <tr>\n",
       "      <th>12001</th>\n",
       "      <td>posted</td>\n",
       "      <td>NaN</td>\n",
       "      <td>0</td>\n",
       "      <td>ACC-2920611728</td>\n",
       "      <td>AUD</td>\n",
       "      <td>144.96 -37.76</td>\n",
       "      <td>PAY/SALARY</td>\n",
       "      <td>NaN</td>\n",
       "      <td>0.0</td>\n",
       "      <td>Tyler</td>\n",
       "      <td>...</td>\n",
       "      <td>69</td>\n",
       "      <td>NaN</td>\n",
       "      <td>NaN</td>\n",
       "      <td>2018-10-31T17:00:00.000+0000</td>\n",
       "      <td>1043.12</td>\n",
       "      <td>14a1604e6ead4b54b65d7a28ec546a69</td>\n",
       "      <td>Australia</td>\n",
       "      <td>CUS-1388323263</td>\n",
       "      <td>NaN</td>\n",
       "      <td>credit</td>\n",
       "    </tr>\n",
       "    <tr>\n",
       "      <th>12003</th>\n",
       "      <td>posted</td>\n",
       "      <td>NaN</td>\n",
       "      <td>0</td>\n",
       "      <td>ACC-1799207998</td>\n",
       "      <td>AUD</td>\n",
       "      <td>150.68 -33.79</td>\n",
       "      <td>PAY/SALARY</td>\n",
       "      <td>NaN</td>\n",
       "      <td>0.0</td>\n",
       "      <td>Susan</td>\n",
       "      <td>...</td>\n",
       "      <td>20</td>\n",
       "      <td>NaN</td>\n",
       "      <td>NaN</td>\n",
       "      <td>2018-10-31T17:00:00.000+0000</td>\n",
       "      <td>1395.49</td>\n",
       "      <td>cd1b1dea1d2f43e882d3499b3717d23b</td>\n",
       "      <td>Australia</td>\n",
       "      <td>CUS-164374203</td>\n",
       "      <td>NaN</td>\n",
       "      <td>credit</td>\n",
       "    </tr>\n",
       "    <tr>\n",
       "      <th>12004</th>\n",
       "      <td>posted</td>\n",
       "      <td>NaN</td>\n",
       "      <td>0</td>\n",
       "      <td>ACC-2171593283</td>\n",
       "      <td>AUD</td>\n",
       "      <td>146.94 -36.04</td>\n",
       "      <td>PAY/SALARY</td>\n",
       "      <td>NaN</td>\n",
       "      <td>0.0</td>\n",
       "      <td>Fernando</td>\n",
       "      <td>...</td>\n",
       "      <td>19</td>\n",
       "      <td>NaN</td>\n",
       "      <td>NaN</td>\n",
       "      <td>2018-10-31T17:00:00.000+0000</td>\n",
       "      <td>2639.76</td>\n",
       "      <td>d4804402c1c34e0ebc53a4c395e0c63d</td>\n",
       "      <td>Australia</td>\n",
       "      <td>CUS-2317998716</td>\n",
       "      <td>NaN</td>\n",
       "      <td>credit</td>\n",
       "    </tr>\n",
       "  </tbody>\n",
       "</table>\n",
       "<p>883 rows × 23 columns</p>\n",
       "</div>"
      ],
      "text/plain": [
       "       status  card_present_flag bpay_biller_code         account currency  \\\n",
       "50     posted                NaN                0   ACC-588564840      AUD   \n",
       "61     posted                NaN                0  ACC-1650504218      AUD   \n",
       "64     posted                NaN                0  ACC-3326339947      AUD   \n",
       "68     posted                NaN                0  ACC-3541460373      AUD   \n",
       "70     posted                NaN                0  ACC-2776252858      AUD   \n",
       "...       ...                ...              ...             ...      ...   \n",
       "11995  posted                NaN                0  ACC-1973887809      AUD   \n",
       "12000  posted                NaN                0   ACC-819621312      AUD   \n",
       "12001  posted                NaN                0  ACC-2920611728      AUD   \n",
       "12003  posted                NaN                0  ACC-1799207998      AUD   \n",
       "12004  posted                NaN                0  ACC-2171593283      AUD   \n",
       "\n",
       "            long_lat txn_description merchant_id  merchant_code first_name  \\\n",
       "50     151.27 -33.76      PAY/SALARY         NaN            0.0     Isaiah   \n",
       "61     145.01 -37.93      PAY/SALARY         NaN            0.0    Marissa   \n",
       "64     151.18 -33.80      PAY/SALARY         NaN            0.0       Eric   \n",
       "68     145.00 -37.83      PAY/SALARY         NaN            0.0    Jeffrey   \n",
       "70     144.95 -37.76      PAY/SALARY         NaN            0.0    Kristin   \n",
       "...              ...             ...         ...            ...        ...   \n",
       "11995  115.78 -31.90      PAY/SALARY         NaN            0.0    Antonio   \n",
       "12000  145.04 -37.85      PAY/SALARY         NaN            0.0    Michele   \n",
       "12001  144.96 -37.76      PAY/SALARY         NaN            0.0      Tyler   \n",
       "12003  150.68 -33.79      PAY/SALARY         NaN            0.0      Susan   \n",
       "12004  146.94 -36.04      PAY/SALARY         NaN            0.0   Fernando   \n",
       "\n",
       "       ...  age merchant_suburb merchant_state                    extraction  \\\n",
       "50     ...   23             NaN            NaN  2018-08-01T11:00:00.000+0000   \n",
       "61     ...   23             NaN            NaN  2018-08-01T12:00:00.000+0000   \n",
       "64     ...   22             NaN            NaN  2018-08-01T12:00:00.000+0000   \n",
       "68     ...   24             NaN            NaN  2018-08-01T13:00:00.000+0000   \n",
       "70     ...   43             NaN            NaN  2018-08-01T13:00:00.000+0000   \n",
       "...    ...  ...             ...            ...                           ...   \n",
       "11995  ...   26             NaN            NaN  2018-10-31T16:00:00.000+0000   \n",
       "12000  ...   30             NaN            NaN  2018-10-31T17:00:00.000+0000   \n",
       "12001  ...   69             NaN            NaN  2018-10-31T17:00:00.000+0000   \n",
       "12003  ...   20             NaN            NaN  2018-10-31T17:00:00.000+0000   \n",
       "12004  ...   19             NaN            NaN  2018-10-31T17:00:00.000+0000   \n",
       "\n",
       "        amount                    transaction_id    country     customer_id  \\\n",
       "50     3903.95  9ca281650e5d482d9e53f85e959baa66  Australia  CUS-1462656821   \n",
       "61     1626.48  1822eb0e1bbe4c9e95ebbb0fa2cc4323  Australia  CUS-2500783281   \n",
       "64      983.36  bd62b1799a454cedbbb56364f7c40cbf  Australia   CUS-326006476   \n",
       "68     1408.08  0d95c7c932bb48e5b44c2637bdd3efe9  Australia  CUS-1433879684   \n",
       "70     1068.04  f50ccf1195214d14a0acbfcb5a265193  Australia  CUS-4123612273   \n",
       "...        ...                               ...        ...             ...   \n",
       "11995  1098.91  0e6cffb4401043c891ab7a50ec594208  Australia  CUS-1646621553   \n",
       "12000  1158.15  ad13e06fffba4771b3c994f9147e68c0  Australia  CUS-1271030853   \n",
       "12001  1043.12  14a1604e6ead4b54b65d7a28ec546a69  Australia  CUS-1388323263   \n",
       "12003  1395.49  cd1b1dea1d2f43e882d3499b3717d23b  Australia   CUS-164374203   \n",
       "12004  2639.76  d4804402c1c34e0ebc53a4c395e0c63d  Australia  CUS-2317998716   \n",
       "\n",
       "      merchant_long_lat movement  \n",
       "50                  NaN   credit  \n",
       "61                  NaN   credit  \n",
       "64                  NaN   credit  \n",
       "68                  NaN   credit  \n",
       "70                  NaN   credit  \n",
       "...                 ...      ...  \n",
       "11995               NaN   credit  \n",
       "12000               NaN   credit  \n",
       "12001               NaN   credit  \n",
       "12003               NaN   credit  \n",
       "12004               NaN   credit  \n",
       "\n",
       "[883 rows x 23 columns]"
      ]
     },
     "execution_count": 6,
     "metadata": {},
     "output_type": "execute_result"
    }
   ],
   "source": [
    "#Focussing on the dataset having salary as transaction mode\n",
    "to=transact[transact['txn_description']== 'PAY/SALARY']\n",
    "to"
   ]
  },
  {
   "cell_type": "code",
   "execution_count": 7,
   "metadata": {},
   "outputs": [
    {
     "data": {
      "text/plain": [
       "array(['posted'], dtype=object)"
      ]
     },
     "execution_count": 7,
     "metadata": {},
     "output_type": "execute_result"
    }
   ],
   "source": [
    "#Salary account has always posted transactions, 100% settled and safe.also because only credit transactions\n",
    "to['status'].unique()"
   ]
  },
  {
   "cell_type": "code",
   "execution_count": 8,
   "metadata": {},
   "outputs": [
    {
     "data": {
      "text/html": [
       "<div>\n",
       "<style scoped>\n",
       "    .dataframe tbody tr th:only-of-type {\n",
       "        vertical-align: middle;\n",
       "    }\n",
       "\n",
       "    .dataframe tbody tr th {\n",
       "        vertical-align: top;\n",
       "    }\n",
       "\n",
       "    .dataframe thead th {\n",
       "        text-align: right;\n",
       "    }\n",
       "</style>\n",
       "<table border=\"1\" class=\"dataframe\">\n",
       "  <thead>\n",
       "    <tr style=\"text-align: right;\">\n",
       "      <th></th>\n",
       "      <th>status</th>\n",
       "      <th>card_present_flag</th>\n",
       "      <th>bpay_biller_code</th>\n",
       "      <th>account</th>\n",
       "      <th>currency</th>\n",
       "      <th>long_lat</th>\n",
       "      <th>txn_description</th>\n",
       "      <th>merchant_id</th>\n",
       "      <th>merchant_code</th>\n",
       "      <th>first_name</th>\n",
       "      <th>...</th>\n",
       "      <th>age</th>\n",
       "      <th>merchant_suburb</th>\n",
       "      <th>merchant_state</th>\n",
       "      <th>extraction</th>\n",
       "      <th>amount</th>\n",
       "      <th>transaction_id</th>\n",
       "      <th>country</th>\n",
       "      <th>customer_id</th>\n",
       "      <th>merchant_long_lat</th>\n",
       "      <th>movement</th>\n",
       "    </tr>\n",
       "  </thead>\n",
       "  <tbody>\n",
       "    <tr>\n",
       "      <th>72</th>\n",
       "      <td>posted</td>\n",
       "      <td>NaN</td>\n",
       "      <td>0</td>\n",
       "      <td>ACC-1598451071</td>\n",
       "      <td>AUD</td>\n",
       "      <td>153.41 -27.95</td>\n",
       "      <td>PAY/SALARY</td>\n",
       "      <td>NaN</td>\n",
       "      <td>0.0</td>\n",
       "      <td>Diana</td>\n",
       "      <td>...</td>\n",
       "      <td>26</td>\n",
       "      <td>NaN</td>\n",
       "      <td>NaN</td>\n",
       "      <td>2018-08-01T14:00:00.000+0000</td>\n",
       "      <td>1013.67</td>\n",
       "      <td>a72c9dd8b4614a1982ff71f8b62677ad</td>\n",
       "      <td>Australia</td>\n",
       "      <td>CUS-2487424745</td>\n",
       "      <td>NaN</td>\n",
       "      <td>credit</td>\n",
       "    </tr>\n",
       "    <tr>\n",
       "      <th>951</th>\n",
       "      <td>posted</td>\n",
       "      <td>NaN</td>\n",
       "      <td>0</td>\n",
       "      <td>ACC-1598451071</td>\n",
       "      <td>AUD</td>\n",
       "      <td>153.41 -27.95</td>\n",
       "      <td>PAY/SALARY</td>\n",
       "      <td>NaN</td>\n",
       "      <td>0.0</td>\n",
       "      <td>Diana</td>\n",
       "      <td>...</td>\n",
       "      <td>26</td>\n",
       "      <td>NaN</td>\n",
       "      <td>NaN</td>\n",
       "      <td>2018-08-08T14:00:00.000+0000</td>\n",
       "      <td>1013.67</td>\n",
       "      <td>3fb647f098a642809f85f2f08c0e589b</td>\n",
       "      <td>Australia</td>\n",
       "      <td>CUS-2487424745</td>\n",
       "      <td>NaN</td>\n",
       "      <td>credit</td>\n",
       "    </tr>\n",
       "    <tr>\n",
       "      <th>1849</th>\n",
       "      <td>posted</td>\n",
       "      <td>NaN</td>\n",
       "      <td>0</td>\n",
       "      <td>ACC-1598451071</td>\n",
       "      <td>AUD</td>\n",
       "      <td>153.41 -27.95</td>\n",
       "      <td>PAY/SALARY</td>\n",
       "      <td>NaN</td>\n",
       "      <td>0.0</td>\n",
       "      <td>Diana</td>\n",
       "      <td>...</td>\n",
       "      <td>26</td>\n",
       "      <td>NaN</td>\n",
       "      <td>NaN</td>\n",
       "      <td>2018-08-15T14:00:00.000+0000</td>\n",
       "      <td>1013.67</td>\n",
       "      <td>bdff41213228441e998c82d263983cc7</td>\n",
       "      <td>Australia</td>\n",
       "      <td>CUS-2487424745</td>\n",
       "      <td>NaN</td>\n",
       "      <td>credit</td>\n",
       "    </tr>\n",
       "    <tr>\n",
       "      <th>2642</th>\n",
       "      <td>posted</td>\n",
       "      <td>NaN</td>\n",
       "      <td>0</td>\n",
       "      <td>ACC-1598451071</td>\n",
       "      <td>AUD</td>\n",
       "      <td>153.41 -27.95</td>\n",
       "      <td>PAY/SALARY</td>\n",
       "      <td>NaN</td>\n",
       "      <td>0.0</td>\n",
       "      <td>Diana</td>\n",
       "      <td>...</td>\n",
       "      <td>26</td>\n",
       "      <td>NaN</td>\n",
       "      <td>NaN</td>\n",
       "      <td>2018-08-22T14:00:00.000+0000</td>\n",
       "      <td>1013.67</td>\n",
       "      <td>72e4010a18564f15a097c97af6d309bc</td>\n",
       "      <td>Australia</td>\n",
       "      <td>CUS-2487424745</td>\n",
       "      <td>NaN</td>\n",
       "      <td>credit</td>\n",
       "    </tr>\n",
       "    <tr>\n",
       "      <th>3575</th>\n",
       "      <td>posted</td>\n",
       "      <td>NaN</td>\n",
       "      <td>0</td>\n",
       "      <td>ACC-1598451071</td>\n",
       "      <td>AUD</td>\n",
       "      <td>153.41 -27.95</td>\n",
       "      <td>PAY/SALARY</td>\n",
       "      <td>NaN</td>\n",
       "      <td>0.0</td>\n",
       "      <td>Diana</td>\n",
       "      <td>...</td>\n",
       "      <td>26</td>\n",
       "      <td>NaN</td>\n",
       "      <td>NaN</td>\n",
       "      <td>2018-08-29T14:00:00.000+0000</td>\n",
       "      <td>1013.67</td>\n",
       "      <td>44941fc90d514b71990c07c2c09ce22a</td>\n",
       "      <td>Australia</td>\n",
       "      <td>CUS-2487424745</td>\n",
       "      <td>NaN</td>\n",
       "      <td>credit</td>\n",
       "    </tr>\n",
       "    <tr>\n",
       "      <th>4523</th>\n",
       "      <td>posted</td>\n",
       "      <td>NaN</td>\n",
       "      <td>0</td>\n",
       "      <td>ACC-1598451071</td>\n",
       "      <td>AUD</td>\n",
       "      <td>153.41 -27.95</td>\n",
       "      <td>PAY/SALARY</td>\n",
       "      <td>NaN</td>\n",
       "      <td>0.0</td>\n",
       "      <td>Diana</td>\n",
       "      <td>...</td>\n",
       "      <td>26</td>\n",
       "      <td>NaN</td>\n",
       "      <td>NaN</td>\n",
       "      <td>2018-09-05T14:00:00.000+0000</td>\n",
       "      <td>1013.67</td>\n",
       "      <td>ba87ffc60b7346f8b726e8857e3ecacb</td>\n",
       "      <td>Australia</td>\n",
       "      <td>CUS-2487424745</td>\n",
       "      <td>NaN</td>\n",
       "      <td>credit</td>\n",
       "    </tr>\n",
       "    <tr>\n",
       "      <th>5443</th>\n",
       "      <td>posted</td>\n",
       "      <td>NaN</td>\n",
       "      <td>0</td>\n",
       "      <td>ACC-1598451071</td>\n",
       "      <td>AUD</td>\n",
       "      <td>153.41 -27.95</td>\n",
       "      <td>PAY/SALARY</td>\n",
       "      <td>NaN</td>\n",
       "      <td>0.0</td>\n",
       "      <td>Diana</td>\n",
       "      <td>...</td>\n",
       "      <td>26</td>\n",
       "      <td>NaN</td>\n",
       "      <td>NaN</td>\n",
       "      <td>2018-09-12T14:00:00.000+0000</td>\n",
       "      <td>1013.67</td>\n",
       "      <td>25cf76b489414f6cac603e69aad03f9d</td>\n",
       "      <td>Australia</td>\n",
       "      <td>CUS-2487424745</td>\n",
       "      <td>NaN</td>\n",
       "      <td>credit</td>\n",
       "    </tr>\n",
       "    <tr>\n",
       "      <th>6393</th>\n",
       "      <td>posted</td>\n",
       "      <td>NaN</td>\n",
       "      <td>0</td>\n",
       "      <td>ACC-1598451071</td>\n",
       "      <td>AUD</td>\n",
       "      <td>153.41 -27.95</td>\n",
       "      <td>PAY/SALARY</td>\n",
       "      <td>NaN</td>\n",
       "      <td>0.0</td>\n",
       "      <td>Diana</td>\n",
       "      <td>...</td>\n",
       "      <td>26</td>\n",
       "      <td>NaN</td>\n",
       "      <td>NaN</td>\n",
       "      <td>2018-09-19T14:00:00.000+0000</td>\n",
       "      <td>1013.67</td>\n",
       "      <td>63a5b2fc882e4a3a9704be310b85225d</td>\n",
       "      <td>Australia</td>\n",
       "      <td>CUS-2487424745</td>\n",
       "      <td>NaN</td>\n",
       "      <td>credit</td>\n",
       "    </tr>\n",
       "    <tr>\n",
       "      <th>7314</th>\n",
       "      <td>posted</td>\n",
       "      <td>NaN</td>\n",
       "      <td>0</td>\n",
       "      <td>ACC-1598451071</td>\n",
       "      <td>AUD</td>\n",
       "      <td>153.41 -27.95</td>\n",
       "      <td>PAY/SALARY</td>\n",
       "      <td>NaN</td>\n",
       "      <td>0.0</td>\n",
       "      <td>Diana</td>\n",
       "      <td>...</td>\n",
       "      <td>26</td>\n",
       "      <td>NaN</td>\n",
       "      <td>NaN</td>\n",
       "      <td>2018-09-26T14:00:00.000+0000</td>\n",
       "      <td>1013.67</td>\n",
       "      <td>417263ea35184ef7b379496745031956</td>\n",
       "      <td>Australia</td>\n",
       "      <td>CUS-2487424745</td>\n",
       "      <td>NaN</td>\n",
       "      <td>credit</td>\n",
       "    </tr>\n",
       "    <tr>\n",
       "      <th>8269</th>\n",
       "      <td>posted</td>\n",
       "      <td>NaN</td>\n",
       "      <td>0</td>\n",
       "      <td>ACC-1598451071</td>\n",
       "      <td>AUD</td>\n",
       "      <td>153.41 -27.95</td>\n",
       "      <td>PAY/SALARY</td>\n",
       "      <td>NaN</td>\n",
       "      <td>0.0</td>\n",
       "      <td>Diana</td>\n",
       "      <td>...</td>\n",
       "      <td>26</td>\n",
       "      <td>NaN</td>\n",
       "      <td>NaN</td>\n",
       "      <td>2018-10-03T14:00:00.000+0000</td>\n",
       "      <td>1013.67</td>\n",
       "      <td>f5026b5d7675414092f453c2224ffaa7</td>\n",
       "      <td>Australia</td>\n",
       "      <td>CUS-2487424745</td>\n",
       "      <td>NaN</td>\n",
       "      <td>credit</td>\n",
       "    </tr>\n",
       "    <tr>\n",
       "      <th>9187</th>\n",
       "      <td>posted</td>\n",
       "      <td>NaN</td>\n",
       "      <td>0</td>\n",
       "      <td>ACC-1598451071</td>\n",
       "      <td>AUD</td>\n",
       "      <td>153.41 -27.95</td>\n",
       "      <td>PAY/SALARY</td>\n",
       "      <td>NaN</td>\n",
       "      <td>0.0</td>\n",
       "      <td>Diana</td>\n",
       "      <td>...</td>\n",
       "      <td>26</td>\n",
       "      <td>NaN</td>\n",
       "      <td>NaN</td>\n",
       "      <td>2018-10-10T14:00:00.000+0000</td>\n",
       "      <td>1013.67</td>\n",
       "      <td>c1ef680b82284ffeaaca45173d15ce4b</td>\n",
       "      <td>Australia</td>\n",
       "      <td>CUS-2487424745</td>\n",
       "      <td>NaN</td>\n",
       "      <td>credit</td>\n",
       "    </tr>\n",
       "    <tr>\n",
       "      <th>10129</th>\n",
       "      <td>posted</td>\n",
       "      <td>NaN</td>\n",
       "      <td>0</td>\n",
       "      <td>ACC-1598451071</td>\n",
       "      <td>AUD</td>\n",
       "      <td>153.41 -27.95</td>\n",
       "      <td>PAY/SALARY</td>\n",
       "      <td>NaN</td>\n",
       "      <td>0.0</td>\n",
       "      <td>Diana</td>\n",
       "      <td>...</td>\n",
       "      <td>26</td>\n",
       "      <td>NaN</td>\n",
       "      <td>NaN</td>\n",
       "      <td>2018-10-17T14:00:00.000+0000</td>\n",
       "      <td>1013.67</td>\n",
       "      <td>583aba18701143d7b29b910665fb0ff4</td>\n",
       "      <td>Australia</td>\n",
       "      <td>CUS-2487424745</td>\n",
       "      <td>NaN</td>\n",
       "      <td>credit</td>\n",
       "    </tr>\n",
       "    <tr>\n",
       "      <th>11062</th>\n",
       "      <td>posted</td>\n",
       "      <td>NaN</td>\n",
       "      <td>0</td>\n",
       "      <td>ACC-1598451071</td>\n",
       "      <td>AUD</td>\n",
       "      <td>153.41 -27.95</td>\n",
       "      <td>PAY/SALARY</td>\n",
       "      <td>NaN</td>\n",
       "      <td>0.0</td>\n",
       "      <td>Diana</td>\n",
       "      <td>...</td>\n",
       "      <td>26</td>\n",
       "      <td>NaN</td>\n",
       "      <td>NaN</td>\n",
       "      <td>2018-10-24T14:00:00.000+0000</td>\n",
       "      <td>1013.67</td>\n",
       "      <td>5a911352401c4d53928b8f08e34f5c47</td>\n",
       "      <td>Australia</td>\n",
       "      <td>CUS-2487424745</td>\n",
       "      <td>NaN</td>\n",
       "      <td>credit</td>\n",
       "    </tr>\n",
       "    <tr>\n",
       "      <th>11975</th>\n",
       "      <td>posted</td>\n",
       "      <td>NaN</td>\n",
       "      <td>0</td>\n",
       "      <td>ACC-1598451071</td>\n",
       "      <td>AUD</td>\n",
       "      <td>153.41 -27.95</td>\n",
       "      <td>PAY/SALARY</td>\n",
       "      <td>NaN</td>\n",
       "      <td>0.0</td>\n",
       "      <td>Diana</td>\n",
       "      <td>...</td>\n",
       "      <td>26</td>\n",
       "      <td>NaN</td>\n",
       "      <td>NaN</td>\n",
       "      <td>2018-10-31T14:00:00.000+0000</td>\n",
       "      <td>1013.67</td>\n",
       "      <td>d46b9f66c65942458c211dee1f238e6a</td>\n",
       "      <td>Australia</td>\n",
       "      <td>CUS-2487424745</td>\n",
       "      <td>NaN</td>\n",
       "      <td>credit</td>\n",
       "    </tr>\n",
       "  </tbody>\n",
       "</table>\n",
       "<p>14 rows × 23 columns</p>\n",
       "</div>"
      ],
      "text/plain": [
       "       status  card_present_flag bpay_biller_code         account currency  \\\n",
       "72     posted                NaN                0  ACC-1598451071      AUD   \n",
       "951    posted                NaN                0  ACC-1598451071      AUD   \n",
       "1849   posted                NaN                0  ACC-1598451071      AUD   \n",
       "2642   posted                NaN                0  ACC-1598451071      AUD   \n",
       "3575   posted                NaN                0  ACC-1598451071      AUD   \n",
       "4523   posted                NaN                0  ACC-1598451071      AUD   \n",
       "5443   posted                NaN                0  ACC-1598451071      AUD   \n",
       "6393   posted                NaN                0  ACC-1598451071      AUD   \n",
       "7314   posted                NaN                0  ACC-1598451071      AUD   \n",
       "8269   posted                NaN                0  ACC-1598451071      AUD   \n",
       "9187   posted                NaN                0  ACC-1598451071      AUD   \n",
       "10129  posted                NaN                0  ACC-1598451071      AUD   \n",
       "11062  posted                NaN                0  ACC-1598451071      AUD   \n",
       "11975  posted                NaN                0  ACC-1598451071      AUD   \n",
       "\n",
       "            long_lat txn_description merchant_id  merchant_code first_name  \\\n",
       "72     153.41 -27.95      PAY/SALARY         NaN            0.0      Diana   \n",
       "951    153.41 -27.95      PAY/SALARY         NaN            0.0      Diana   \n",
       "1849   153.41 -27.95      PAY/SALARY         NaN            0.0      Diana   \n",
       "2642   153.41 -27.95      PAY/SALARY         NaN            0.0      Diana   \n",
       "3575   153.41 -27.95      PAY/SALARY         NaN            0.0      Diana   \n",
       "4523   153.41 -27.95      PAY/SALARY         NaN            0.0      Diana   \n",
       "5443   153.41 -27.95      PAY/SALARY         NaN            0.0      Diana   \n",
       "6393   153.41 -27.95      PAY/SALARY         NaN            0.0      Diana   \n",
       "7314   153.41 -27.95      PAY/SALARY         NaN            0.0      Diana   \n",
       "8269   153.41 -27.95      PAY/SALARY         NaN            0.0      Diana   \n",
       "9187   153.41 -27.95      PAY/SALARY         NaN            0.0      Diana   \n",
       "10129  153.41 -27.95      PAY/SALARY         NaN            0.0      Diana   \n",
       "11062  153.41 -27.95      PAY/SALARY         NaN            0.0      Diana   \n",
       "11975  153.41 -27.95      PAY/SALARY         NaN            0.0      Diana   \n",
       "\n",
       "       ...  age merchant_suburb merchant_state                    extraction  \\\n",
       "72     ...   26             NaN            NaN  2018-08-01T14:00:00.000+0000   \n",
       "951    ...   26             NaN            NaN  2018-08-08T14:00:00.000+0000   \n",
       "1849   ...   26             NaN            NaN  2018-08-15T14:00:00.000+0000   \n",
       "2642   ...   26             NaN            NaN  2018-08-22T14:00:00.000+0000   \n",
       "3575   ...   26             NaN            NaN  2018-08-29T14:00:00.000+0000   \n",
       "4523   ...   26             NaN            NaN  2018-09-05T14:00:00.000+0000   \n",
       "5443   ...   26             NaN            NaN  2018-09-12T14:00:00.000+0000   \n",
       "6393   ...   26             NaN            NaN  2018-09-19T14:00:00.000+0000   \n",
       "7314   ...   26             NaN            NaN  2018-09-26T14:00:00.000+0000   \n",
       "8269   ...   26             NaN            NaN  2018-10-03T14:00:00.000+0000   \n",
       "9187   ...   26             NaN            NaN  2018-10-10T14:00:00.000+0000   \n",
       "10129  ...   26             NaN            NaN  2018-10-17T14:00:00.000+0000   \n",
       "11062  ...   26             NaN            NaN  2018-10-24T14:00:00.000+0000   \n",
       "11975  ...   26             NaN            NaN  2018-10-31T14:00:00.000+0000   \n",
       "\n",
       "        amount                    transaction_id    country     customer_id  \\\n",
       "72     1013.67  a72c9dd8b4614a1982ff71f8b62677ad  Australia  CUS-2487424745   \n",
       "951    1013.67  3fb647f098a642809f85f2f08c0e589b  Australia  CUS-2487424745   \n",
       "1849   1013.67  bdff41213228441e998c82d263983cc7  Australia  CUS-2487424745   \n",
       "2642   1013.67  72e4010a18564f15a097c97af6d309bc  Australia  CUS-2487424745   \n",
       "3575   1013.67  44941fc90d514b71990c07c2c09ce22a  Australia  CUS-2487424745   \n",
       "4523   1013.67  ba87ffc60b7346f8b726e8857e3ecacb  Australia  CUS-2487424745   \n",
       "5443   1013.67  25cf76b489414f6cac603e69aad03f9d  Australia  CUS-2487424745   \n",
       "6393   1013.67  63a5b2fc882e4a3a9704be310b85225d  Australia  CUS-2487424745   \n",
       "7314   1013.67  417263ea35184ef7b379496745031956  Australia  CUS-2487424745   \n",
       "8269   1013.67  f5026b5d7675414092f453c2224ffaa7  Australia  CUS-2487424745   \n",
       "9187   1013.67  c1ef680b82284ffeaaca45173d15ce4b  Australia  CUS-2487424745   \n",
       "10129  1013.67  583aba18701143d7b29b910665fb0ff4  Australia  CUS-2487424745   \n",
       "11062  1013.67  5a911352401c4d53928b8f08e34f5c47  Australia  CUS-2487424745   \n",
       "11975  1013.67  d46b9f66c65942458c211dee1f238e6a  Australia  CUS-2487424745   \n",
       "\n",
       "      merchant_long_lat movement  \n",
       "72                  NaN   credit  \n",
       "951                 NaN   credit  \n",
       "1849                NaN   credit  \n",
       "2642                NaN   credit  \n",
       "3575                NaN   credit  \n",
       "4523                NaN   credit  \n",
       "5443                NaN   credit  \n",
       "6393                NaN   credit  \n",
       "7314                NaN   credit  \n",
       "8269                NaN   credit  \n",
       "9187                NaN   credit  \n",
       "10129               NaN   credit  \n",
       "11062               NaN   credit  \n",
       "11975               NaN   credit  \n",
       "\n",
       "[14 rows x 23 columns]"
      ]
     },
     "execution_count": 8,
     "metadata": {},
     "output_type": "execute_result"
    }
   ],
   "source": [
    "#Just one account to analyse the dataset and trend of transaction mode: Salary\n",
    "#Salary credited is constant for each customer per month,can infer annual salary.\n",
    "to[to['account']=='ACC-1598451071']"
   ]
  },
  {
   "cell_type": "code",
   "execution_count": 9,
   "metadata": {},
   "outputs": [
    {
     "data": {
      "text/html": [
       "<div>\n",
       "<style scoped>\n",
       "    .dataframe tbody tr th:only-of-type {\n",
       "        vertical-align: middle;\n",
       "    }\n",
       "\n",
       "    .dataframe tbody tr th {\n",
       "        vertical-align: top;\n",
       "    }\n",
       "\n",
       "    .dataframe thead th {\n",
       "        text-align: right;\n",
       "    }\n",
       "</style>\n",
       "<table border=\"1\" class=\"dataframe\">\n",
       "  <thead>\n",
       "    <tr style=\"text-align: right;\">\n",
       "      <th></th>\n",
       "      <th>status</th>\n",
       "      <th>card_present_flag</th>\n",
       "      <th>bpay_biller_code</th>\n",
       "      <th>account</th>\n",
       "      <th>currency</th>\n",
       "      <th>long_lat</th>\n",
       "      <th>txn_description</th>\n",
       "      <th>merchant_id</th>\n",
       "      <th>merchant_code</th>\n",
       "      <th>first_name</th>\n",
       "      <th>...</th>\n",
       "      <th>age</th>\n",
       "      <th>merchant_suburb</th>\n",
       "      <th>merchant_state</th>\n",
       "      <th>extraction</th>\n",
       "      <th>amount</th>\n",
       "      <th>transaction_id</th>\n",
       "      <th>country</th>\n",
       "      <th>customer_id</th>\n",
       "      <th>merchant_long_lat</th>\n",
       "      <th>movement</th>\n",
       "    </tr>\n",
       "  </thead>\n",
       "  <tbody>\n",
       "  </tbody>\n",
       "</table>\n",
       "<p>0 rows × 23 columns</p>\n",
       "</div>"
      ],
      "text/plain": [
       "Empty DataFrame\n",
       "Columns: [status, card_present_flag, bpay_biller_code, account, currency, long_lat, txn_description, merchant_id, merchant_code, first_name, balance, date, gender, age, merchant_suburb, merchant_state, extraction, amount, transaction_id, country, customer_id, merchant_long_lat, movement]\n",
       "Index: []\n",
       "\n",
       "[0 rows x 23 columns]"
      ]
     },
     "execution_count": 9,
     "metadata": {},
     "output_type": "execute_result"
    }
   ],
   "source": [
    "#No debit transaction in Salary Account,all salary transactions are added and form a part of Salary of a customer\n",
    "to=transact[transact['txn_description']== 'PAY/SALARY']\n",
    "to[to['movement']=='debit'] "
   ]
  },
  {
   "cell_type": "code",
   "execution_count": 10,
   "metadata": {},
   "outputs": [],
   "source": [
    "#Convert to Dataframe\n",
    "to=pd.DataFrame(to)"
   ]
  },
  {
   "cell_type": "code",
   "execution_count": 12,
   "metadata": {},
   "outputs": [
    {
     "data": {
      "text/html": [
       "<div>\n",
       "<style scoped>\n",
       "    .dataframe tbody tr th:only-of-type {\n",
       "        vertical-align: middle;\n",
       "    }\n",
       "\n",
       "    .dataframe tbody tr th {\n",
       "        vertical-align: top;\n",
       "    }\n",
       "\n",
       "    .dataframe thead th {\n",
       "        text-align: right;\n",
       "    }\n",
       "</style>\n",
       "<table border=\"1\" class=\"dataframe\">\n",
       "  <thead>\n",
       "    <tr style=\"text-align: right;\">\n",
       "      <th></th>\n",
       "      <th>card_present_flag</th>\n",
       "      <th>merchant_code</th>\n",
       "      <th>balance</th>\n",
       "      <th>age</th>\n",
       "      <th>amount</th>\n",
       "    </tr>\n",
       "    <tr>\n",
       "      <th>account</th>\n",
       "      <th></th>\n",
       "      <th></th>\n",
       "      <th></th>\n",
       "      <th></th>\n",
       "      <th></th>\n",
       "    </tr>\n",
       "  </thead>\n",
       "  <tbody>\n",
       "    <tr>\n",
       "      <th>ACC-1037050564</th>\n",
       "      <td>0.0</td>\n",
       "      <td>0.0</td>\n",
       "      <td>51472.20</td>\n",
       "      <td>520</td>\n",
       "      <td>11597.17</td>\n",
       "    </tr>\n",
       "    <tr>\n",
       "      <th>ACC-1056639002</th>\n",
       "      <td>0.0</td>\n",
       "      <td>0.0</td>\n",
       "      <td>298308.49</td>\n",
       "      <td>132</td>\n",
       "      <td>19170.06</td>\n",
       "    </tr>\n",
       "    <tr>\n",
       "      <th>ACC-1199531521</th>\n",
       "      <td>0.0</td>\n",
       "      <td>0.0</td>\n",
       "      <td>86898.05</td>\n",
       "      <td>364</td>\n",
       "      <td>26500.46</td>\n",
       "    </tr>\n",
       "    <tr>\n",
       "      <th>ACC-1217063613</th>\n",
       "      <td>0.0</td>\n",
       "      <td>0.0</td>\n",
       "      <td>13769.63</td>\n",
       "      <td>54</td>\n",
       "      <td>9727.24</td>\n",
       "    </tr>\n",
       "    <tr>\n",
       "      <th>ACC-1222300524</th>\n",
       "      <td>0.0</td>\n",
       "      <td>0.0</td>\n",
       "      <td>22826.60</td>\n",
       "      <td>494</td>\n",
       "      <td>13027.69</td>\n",
       "    </tr>\n",
       "    <tr>\n",
       "      <th>...</th>\n",
       "      <td>...</td>\n",
       "      <td>...</td>\n",
       "      <td>...</td>\n",
       "      <td>...</td>\n",
       "      <td>...</td>\n",
       "    </tr>\n",
       "    <tr>\n",
       "      <th>ACC-854938045</th>\n",
       "      <td>0.0</td>\n",
       "      <td>0.0</td>\n",
       "      <td>88169.32</td>\n",
       "      <td>196</td>\n",
       "      <td>17770.76</td>\n",
       "    </tr>\n",
       "    <tr>\n",
       "      <th>ACC-90814749</th>\n",
       "      <td>0.0</td>\n",
       "      <td>0.0</td>\n",
       "      <td>65301.33</td>\n",
       "      <td>210</td>\n",
       "      <td>13852.02</td>\n",
       "    </tr>\n",
       "    <tr>\n",
       "      <th>ACC-958000567</th>\n",
       "      <td>0.0</td>\n",
       "      <td>0.0</td>\n",
       "      <td>59807.25</td>\n",
       "      <td>238</td>\n",
       "      <td>24623.27</td>\n",
       "    </tr>\n",
       "    <tr>\n",
       "      <th>ACC-964839203</th>\n",
       "      <td>0.0</td>\n",
       "      <td>0.0</td>\n",
       "      <td>467645.22</td>\n",
       "      <td>273</td>\n",
       "      <td>20282.60</td>\n",
       "    </tr>\n",
       "    <tr>\n",
       "      <th>ACC-966140392</th>\n",
       "      <td>0.0</td>\n",
       "      <td>0.0</td>\n",
       "      <td>49877.75</td>\n",
       "      <td>147</td>\n",
       "      <td>18010.37</td>\n",
       "    </tr>\n",
       "  </tbody>\n",
       "</table>\n",
       "<p>100 rows × 5 columns</p>\n",
       "</div>"
      ],
      "text/plain": [
       "                card_present_flag  merchant_code    balance  age    amount\n",
       "account                                                                   \n",
       "ACC-1037050564                0.0            0.0   51472.20  520  11597.17\n",
       "ACC-1056639002                0.0            0.0  298308.49  132  19170.06\n",
       "ACC-1199531521                0.0            0.0   86898.05  364  26500.46\n",
       "ACC-1217063613                0.0            0.0   13769.63   54   9727.24\n",
       "ACC-1222300524                0.0            0.0   22826.60  494  13027.69\n",
       "...                           ...            ...        ...  ...       ...\n",
       "ACC-854938045                 0.0            0.0   88169.32  196  17770.76\n",
       "ACC-90814749                  0.0            0.0   65301.33  210  13852.02\n",
       "ACC-958000567                 0.0            0.0   59807.25  238  24623.27\n",
       "ACC-964839203                 0.0            0.0  467645.22  273  20282.60\n",
       "ACC-966140392                 0.0            0.0   49877.75  147  18010.37\n",
       "\n",
       "[100 rows x 5 columns]"
      ]
     },
     "execution_count": 12,
     "metadata": {},
     "output_type": "execute_result"
    }
   ],
   "source": [
    "#Total salary per account over the analysis time period (1st Aug to 31st October)3 months,\n",
    "#sum of amount credited to the account\n",
    "salo=to.groupby('account').sum()\n",
    "salo"
   ]
  },
  {
   "cell_type": "code",
   "execution_count": 13,
   "metadata": {},
   "outputs": [
    {
     "data": {
      "text/plain": [
       "account\n",
       "ACC-1037050564     46388.68\n",
       "ACC-1056639002     76680.24\n",
       "ACC-1199531521    106001.84\n",
       "ACC-1217063613     38908.96\n",
       "ACC-1222300524     52110.76\n",
       "                    ...    \n",
       "ACC-854938045      71083.04\n",
       "ACC-90814749       55408.08\n",
       "ACC-958000567      98493.08\n",
       "ACC-964839203      81130.40\n",
       "ACC-966140392      72041.48\n",
       "Name: salaryy_annual, Length: 100, dtype: float64"
      ]
     },
     "execution_count": 13,
     "metadata": {},
     "output_type": "execute_result"
    }
   ],
   "source": [
    "#Annual salary can be calculated as transaction amount (salary) is constant credit amount over 3 months\n",
    "salo['salaryy_annual']=(salo.amount/3)*12\n",
    "salo['salaryy_annual']"
   ]
  },
  {
   "cell_type": "code",
   "execution_count": 14,
   "metadata": {},
   "outputs": [
    {
     "data": {
      "text/html": [
       "<div>\n",
       "<style scoped>\n",
       "    .dataframe tbody tr th:only-of-type {\n",
       "        vertical-align: middle;\n",
       "    }\n",
       "\n",
       "    .dataframe tbody tr th {\n",
       "        vertical-align: top;\n",
       "    }\n",
       "\n",
       "    .dataframe thead th {\n",
       "        text-align: right;\n",
       "    }\n",
       "</style>\n",
       "<table border=\"1\" class=\"dataframe\">\n",
       "  <thead>\n",
       "    <tr style=\"text-align: right;\">\n",
       "      <th></th>\n",
       "      <th>salaryy_annual</th>\n",
       "    </tr>\n",
       "    <tr>\n",
       "      <th>account</th>\n",
       "      <th></th>\n",
       "    </tr>\n",
       "  </thead>\n",
       "  <tbody>\n",
       "    <tr>\n",
       "      <th>ACC-1037050564</th>\n",
       "      <td>46388.68</td>\n",
       "    </tr>\n",
       "    <tr>\n",
       "      <th>ACC-1056639002</th>\n",
       "      <td>76680.24</td>\n",
       "    </tr>\n",
       "    <tr>\n",
       "      <th>ACC-1199531521</th>\n",
       "      <td>106001.84</td>\n",
       "    </tr>\n",
       "    <tr>\n",
       "      <th>ACC-1217063613</th>\n",
       "      <td>38908.96</td>\n",
       "    </tr>\n",
       "    <tr>\n",
       "      <th>ACC-1222300524</th>\n",
       "      <td>52110.76</td>\n",
       "    </tr>\n",
       "    <tr>\n",
       "      <th>...</th>\n",
       "      <td>...</td>\n",
       "    </tr>\n",
       "    <tr>\n",
       "      <th>ACC-854938045</th>\n",
       "      <td>71083.04</td>\n",
       "    </tr>\n",
       "    <tr>\n",
       "      <th>ACC-90814749</th>\n",
       "      <td>55408.08</td>\n",
       "    </tr>\n",
       "    <tr>\n",
       "      <th>ACC-958000567</th>\n",
       "      <td>98493.08</td>\n",
       "    </tr>\n",
       "    <tr>\n",
       "      <th>ACC-964839203</th>\n",
       "      <td>81130.40</td>\n",
       "    </tr>\n",
       "    <tr>\n",
       "      <th>ACC-966140392</th>\n",
       "      <td>72041.48</td>\n",
       "    </tr>\n",
       "  </tbody>\n",
       "</table>\n",
       "<p>100 rows × 1 columns</p>\n",
       "</div>"
      ],
      "text/plain": [
       "                salaryy_annual\n",
       "account                       \n",
       "ACC-1037050564        46388.68\n",
       "ACC-1056639002        76680.24\n",
       "ACC-1199531521       106001.84\n",
       "ACC-1217063613        38908.96\n",
       "ACC-1222300524        52110.76\n",
       "...                        ...\n",
       "ACC-854938045         71083.04\n",
       "ACC-90814749          55408.08\n",
       "ACC-958000567         98493.08\n",
       "ACC-964839203         81130.40\n",
       "ACC-966140392         72041.48\n",
       "\n",
       "[100 rows x 1 columns]"
      ]
     },
     "execution_count": 14,
     "metadata": {},
     "output_type": "execute_result"
    }
   ],
   "source": [
    "#Dataframe consisiting of annual Salary of each account\n",
    "salory=salo['salaryy_annual']\n",
    "salory=pd.DataFrame(salory)\n",
    "salory"
   ]
  },
  {
   "cell_type": "code",
   "execution_count": 15,
   "metadata": {},
   "outputs": [
    {
     "data": {
      "text/html": [
       "<div>\n",
       "<style scoped>\n",
       "    .dataframe tbody tr th:only-of-type {\n",
       "        vertical-align: middle;\n",
       "    }\n",
       "\n",
       "    .dataframe tbody tr th {\n",
       "        vertical-align: top;\n",
       "    }\n",
       "\n",
       "    .dataframe thead th {\n",
       "        text-align: right;\n",
       "    }\n",
       "</style>\n",
       "<table border=\"1\" class=\"dataframe\">\n",
       "  <thead>\n",
       "    <tr style=\"text-align: right;\">\n",
       "      <th></th>\n",
       "      <th>status</th>\n",
       "      <th>card_present_flag</th>\n",
       "      <th>bpay_biller_code</th>\n",
       "      <th>account</th>\n",
       "      <th>currency</th>\n",
       "      <th>long_lat</th>\n",
       "      <th>txn_description</th>\n",
       "      <th>merchant_id</th>\n",
       "      <th>merchant_code</th>\n",
       "      <th>first_name</th>\n",
       "      <th>...</th>\n",
       "      <th>merchant_suburb</th>\n",
       "      <th>merchant_state</th>\n",
       "      <th>extraction</th>\n",
       "      <th>amount</th>\n",
       "      <th>transaction_id</th>\n",
       "      <th>country</th>\n",
       "      <th>customer_id</th>\n",
       "      <th>merchant_long_lat</th>\n",
       "      <th>movement</th>\n",
       "      <th>salaryy_annual</th>\n",
       "    </tr>\n",
       "  </thead>\n",
       "  <tbody>\n",
       "    <tr>\n",
       "      <th>0</th>\n",
       "      <td>authorized</td>\n",
       "      <td>1.0</td>\n",
       "      <td>NaN</td>\n",
       "      <td>ACC-1598451071</td>\n",
       "      <td>AUD</td>\n",
       "      <td>153.41 -27.95</td>\n",
       "      <td>POS</td>\n",
       "      <td>81c48296-73be-44a7-befa-d053f48ce7cd</td>\n",
       "      <td>NaN</td>\n",
       "      <td>Diana</td>\n",
       "      <td>...</td>\n",
       "      <td>Ashmore</td>\n",
       "      <td>QLD</td>\n",
       "      <td>2018-08-01T01:01:15.000+0000</td>\n",
       "      <td>16.25</td>\n",
       "      <td>a623070bfead4541a6b0fff8a09e706c</td>\n",
       "      <td>Australia</td>\n",
       "      <td>CUS-2487424745</td>\n",
       "      <td>153.38 -27.99</td>\n",
       "      <td>debit</td>\n",
       "      <td>56765.52</td>\n",
       "    </tr>\n",
       "    <tr>\n",
       "      <th>1</th>\n",
       "      <td>authorized</td>\n",
       "      <td>0.0</td>\n",
       "      <td>NaN</td>\n",
       "      <td>ACC-1598451071</td>\n",
       "      <td>AUD</td>\n",
       "      <td>153.41 -27.95</td>\n",
       "      <td>SALES-POS</td>\n",
       "      <td>830a451c-316e-4a6a-bf25-e37caedca49e</td>\n",
       "      <td>NaN</td>\n",
       "      <td>Diana</td>\n",
       "      <td>...</td>\n",
       "      <td>Sydney</td>\n",
       "      <td>NSW</td>\n",
       "      <td>2018-08-01T01:13:45.000+0000</td>\n",
       "      <td>14.19</td>\n",
       "      <td>13270a2a902145da9db4c951e04b51b9</td>\n",
       "      <td>Australia</td>\n",
       "      <td>CUS-2487424745</td>\n",
       "      <td>151.21 -33.87</td>\n",
       "      <td>debit</td>\n",
       "      <td>56765.52</td>\n",
       "    </tr>\n",
       "    <tr>\n",
       "      <th>2</th>\n",
       "      <td>authorized</td>\n",
       "      <td>1.0</td>\n",
       "      <td>NaN</td>\n",
       "      <td>ACC-1598451071</td>\n",
       "      <td>AUD</td>\n",
       "      <td>153.41 -27.95</td>\n",
       "      <td>SALES-POS</td>\n",
       "      <td>b4e02c10-0852-4273-b8fd-7b3395e32eb0</td>\n",
       "      <td>NaN</td>\n",
       "      <td>Diana</td>\n",
       "      <td>...</td>\n",
       "      <td>Mermaid Beach</td>\n",
       "      <td>QLD</td>\n",
       "      <td>2018-08-01T01:51:15.000+0000</td>\n",
       "      <td>3.25</td>\n",
       "      <td>329adf79878c4cf0aeb4188b4691c266</td>\n",
       "      <td>Australia</td>\n",
       "      <td>CUS-2487424745</td>\n",
       "      <td>153.44 -28.06</td>\n",
       "      <td>debit</td>\n",
       "      <td>56765.52</td>\n",
       "    </tr>\n",
       "    <tr>\n",
       "      <th>3</th>\n",
       "      <td>authorized</td>\n",
       "      <td>1.0</td>\n",
       "      <td>NaN</td>\n",
       "      <td>ACC-1598451071</td>\n",
       "      <td>AUD</td>\n",
       "      <td>153.41 -27.95</td>\n",
       "      <td>POS</td>\n",
       "      <td>f2ef6270-cf91-409f-a6a2-fbd6735ea500</td>\n",
       "      <td>NaN</td>\n",
       "      <td>Diana</td>\n",
       "      <td>...</td>\n",
       "      <td>Byron Bay</td>\n",
       "      <td>NSW</td>\n",
       "      <td>2018-08-01T08:09:42.000+0000</td>\n",
       "      <td>14.10</td>\n",
       "      <td>1c12c9ad77894ef8b507fb091e41e928</td>\n",
       "      <td>Australia</td>\n",
       "      <td>CUS-2487424745</td>\n",
       "      <td>153.6 -28.63</td>\n",
       "      <td>debit</td>\n",
       "      <td>56765.52</td>\n",
       "    </tr>\n",
       "    <tr>\n",
       "      <th>4</th>\n",
       "      <td>posted</td>\n",
       "      <td>NaN</td>\n",
       "      <td>0</td>\n",
       "      <td>ACC-1598451071</td>\n",
       "      <td>AUD</td>\n",
       "      <td>153.41 -27.95</td>\n",
       "      <td>PAY/SALARY</td>\n",
       "      <td>NaN</td>\n",
       "      <td>0.0</td>\n",
       "      <td>Diana</td>\n",
       "      <td>...</td>\n",
       "      <td>NaN</td>\n",
       "      <td>NaN</td>\n",
       "      <td>2018-08-01T14:00:00.000+0000</td>\n",
       "      <td>1013.67</td>\n",
       "      <td>a72c9dd8b4614a1982ff71f8b62677ad</td>\n",
       "      <td>Australia</td>\n",
       "      <td>CUS-2487424745</td>\n",
       "      <td>NaN</td>\n",
       "      <td>credit</td>\n",
       "      <td>56765.52</td>\n",
       "    </tr>\n",
       "    <tr>\n",
       "      <th>...</th>\n",
       "      <td>...</td>\n",
       "      <td>...</td>\n",
       "      <td>...</td>\n",
       "      <td>...</td>\n",
       "      <td>...</td>\n",
       "      <td>...</td>\n",
       "      <td>...</td>\n",
       "      <td>...</td>\n",
       "      <td>...</td>\n",
       "      <td>...</td>\n",
       "      <td>...</td>\n",
       "      <td>...</td>\n",
       "      <td>...</td>\n",
       "      <td>...</td>\n",
       "      <td>...</td>\n",
       "      <td>...</td>\n",
       "      <td>...</td>\n",
       "      <td>...</td>\n",
       "      <td>...</td>\n",
       "      <td>...</td>\n",
       "      <td>...</td>\n",
       "    </tr>\n",
       "    <tr>\n",
       "      <th>12038</th>\n",
       "      <td>posted</td>\n",
       "      <td>NaN</td>\n",
       "      <td>0</td>\n",
       "      <td>ACC-240804743</td>\n",
       "      <td>AUD</td>\n",
       "      <td>121.48 -30.75</td>\n",
       "      <td>PAY/SALARY</td>\n",
       "      <td>NaN</td>\n",
       "      <td>0.0</td>\n",
       "      <td>Kenneth</td>\n",
       "      <td>...</td>\n",
       "      <td>NaN</td>\n",
       "      <td>NaN</td>\n",
       "      <td>2018-10-29T11:00:00.000+0000</td>\n",
       "      <td>4405.30</td>\n",
       "      <td>d3bb8b156aa64be9a02eccba98f09435</td>\n",
       "      <td>Australia</td>\n",
       "      <td>CUS-261674136</td>\n",
       "      <td>NaN</td>\n",
       "      <td>credit</td>\n",
       "      <td>123348.40</td>\n",
       "    </tr>\n",
       "    <tr>\n",
       "      <th>12039</th>\n",
       "      <td>posted</td>\n",
       "      <td>NaN</td>\n",
       "      <td>NaN</td>\n",
       "      <td>ACC-240804743</td>\n",
       "      <td>AUD</td>\n",
       "      <td>121.48 -30.75</td>\n",
       "      <td>PHONE BANK</td>\n",
       "      <td>NaN</td>\n",
       "      <td>NaN</td>\n",
       "      <td>Kenneth</td>\n",
       "      <td>...</td>\n",
       "      <td>NaN</td>\n",
       "      <td>NaN</td>\n",
       "      <td>2018-10-30T03:00:00.000+0000</td>\n",
       "      <td>43.00</td>\n",
       "      <td>db9abbbe8d214174b79ff65ca421b0da</td>\n",
       "      <td>Australia</td>\n",
       "      <td>CUS-261674136</td>\n",
       "      <td>NaN</td>\n",
       "      <td>debit</td>\n",
       "      <td>123348.40</td>\n",
       "    </tr>\n",
       "    <tr>\n",
       "      <th>12040</th>\n",
       "      <td>authorized</td>\n",
       "      <td>1.0</td>\n",
       "      <td>NaN</td>\n",
       "      <td>ACC-240804743</td>\n",
       "      <td>AUD</td>\n",
       "      <td>121.48 -30.75</td>\n",
       "      <td>SALES-POS</td>\n",
       "      <td>e28c426d-cbef-4e2d-aa06-1ba0b6b1902f</td>\n",
       "      <td>NaN</td>\n",
       "      <td>Kenneth</td>\n",
       "      <td>...</td>\n",
       "      <td>Boggabri</td>\n",
       "      <td>NSW</td>\n",
       "      <td>2018-10-30T21:27:03.000+0000</td>\n",
       "      <td>16.33</td>\n",
       "      <td>02eb25c2447d4287bc5f62950f63130c</td>\n",
       "      <td>Australia</td>\n",
       "      <td>CUS-261674136</td>\n",
       "      <td>150.04 -30.7</td>\n",
       "      <td>debit</td>\n",
       "      <td>123348.40</td>\n",
       "    </tr>\n",
       "    <tr>\n",
       "      <th>12041</th>\n",
       "      <td>posted</td>\n",
       "      <td>NaN</td>\n",
       "      <td>NaN</td>\n",
       "      <td>ACC-240804743</td>\n",
       "      <td>AUD</td>\n",
       "      <td>121.48 -30.75</td>\n",
       "      <td>PAYMENT</td>\n",
       "      <td>NaN</td>\n",
       "      <td>NaN</td>\n",
       "      <td>Kenneth</td>\n",
       "      <td>...</td>\n",
       "      <td>NaN</td>\n",
       "      <td>NaN</td>\n",
       "      <td>2018-10-31T14:00:00.000+0000</td>\n",
       "      <td>56.00</td>\n",
       "      <td>1e4115fe5c8f4f74be8f9ddcd4ab3e8d</td>\n",
       "      <td>Australia</td>\n",
       "      <td>CUS-261674136</td>\n",
       "      <td>NaN</td>\n",
       "      <td>debit</td>\n",
       "      <td>123348.40</td>\n",
       "    </tr>\n",
       "    <tr>\n",
       "      <th>12042</th>\n",
       "      <td>posted</td>\n",
       "      <td>NaN</td>\n",
       "      <td>NaN</td>\n",
       "      <td>ACC-240804743</td>\n",
       "      <td>AUD</td>\n",
       "      <td>121.48 -30.75</td>\n",
       "      <td>PAYMENT</td>\n",
       "      <td>NaN</td>\n",
       "      <td>NaN</td>\n",
       "      <td>Kenneth</td>\n",
       "      <td>...</td>\n",
       "      <td>NaN</td>\n",
       "      <td>NaN</td>\n",
       "      <td>2018-10-31T23:00:00.000+0000</td>\n",
       "      <td>39.00</td>\n",
       "      <td>c7bc398b9eb04e73933dc6d5a7beae0b</td>\n",
       "      <td>Australia</td>\n",
       "      <td>CUS-261674136</td>\n",
       "      <td>NaN</td>\n",
       "      <td>debit</td>\n",
       "      <td>123348.40</td>\n",
       "    </tr>\n",
       "  </tbody>\n",
       "</table>\n",
       "<p>12043 rows × 24 columns</p>\n",
       "</div>"
      ],
      "text/plain": [
       "           status  card_present_flag bpay_biller_code         account  \\\n",
       "0      authorized                1.0              NaN  ACC-1598451071   \n",
       "1      authorized                0.0              NaN  ACC-1598451071   \n",
       "2      authorized                1.0              NaN  ACC-1598451071   \n",
       "3      authorized                1.0              NaN  ACC-1598451071   \n",
       "4          posted                NaN                0  ACC-1598451071   \n",
       "...           ...                ...              ...             ...   \n",
       "12038      posted                NaN                0   ACC-240804743   \n",
       "12039      posted                NaN              NaN   ACC-240804743   \n",
       "12040  authorized                1.0              NaN   ACC-240804743   \n",
       "12041      posted                NaN              NaN   ACC-240804743   \n",
       "12042      posted                NaN              NaN   ACC-240804743   \n",
       "\n",
       "      currency       long_lat txn_description  \\\n",
       "0          AUD  153.41 -27.95             POS   \n",
       "1          AUD  153.41 -27.95       SALES-POS   \n",
       "2          AUD  153.41 -27.95       SALES-POS   \n",
       "3          AUD  153.41 -27.95             POS   \n",
       "4          AUD  153.41 -27.95      PAY/SALARY   \n",
       "...        ...            ...             ...   \n",
       "12038      AUD  121.48 -30.75      PAY/SALARY   \n",
       "12039      AUD  121.48 -30.75      PHONE BANK   \n",
       "12040      AUD  121.48 -30.75       SALES-POS   \n",
       "12041      AUD  121.48 -30.75         PAYMENT   \n",
       "12042      AUD  121.48 -30.75         PAYMENT   \n",
       "\n",
       "                                merchant_id  merchant_code first_name  ...  \\\n",
       "0      81c48296-73be-44a7-befa-d053f48ce7cd            NaN      Diana  ...   \n",
       "1      830a451c-316e-4a6a-bf25-e37caedca49e            NaN      Diana  ...   \n",
       "2      b4e02c10-0852-4273-b8fd-7b3395e32eb0            NaN      Diana  ...   \n",
       "3      f2ef6270-cf91-409f-a6a2-fbd6735ea500            NaN      Diana  ...   \n",
       "4                                       NaN            0.0      Diana  ...   \n",
       "...                                     ...            ...        ...  ...   \n",
       "12038                                   NaN            0.0    Kenneth  ...   \n",
       "12039                                   NaN            NaN    Kenneth  ...   \n",
       "12040  e28c426d-cbef-4e2d-aa06-1ba0b6b1902f            NaN    Kenneth  ...   \n",
       "12041                                   NaN            NaN    Kenneth  ...   \n",
       "12042                                   NaN            NaN    Kenneth  ...   \n",
       "\n",
       "       merchant_suburb merchant_state                    extraction   amount  \\\n",
       "0              Ashmore            QLD  2018-08-01T01:01:15.000+0000    16.25   \n",
       "1               Sydney            NSW  2018-08-01T01:13:45.000+0000    14.19   \n",
       "2        Mermaid Beach            QLD  2018-08-01T01:51:15.000+0000     3.25   \n",
       "3            Byron Bay            NSW  2018-08-01T08:09:42.000+0000    14.10   \n",
       "4                  NaN            NaN  2018-08-01T14:00:00.000+0000  1013.67   \n",
       "...                ...            ...                           ...      ...   \n",
       "12038              NaN            NaN  2018-10-29T11:00:00.000+0000  4405.30   \n",
       "12039              NaN            NaN  2018-10-30T03:00:00.000+0000    43.00   \n",
       "12040         Boggabri            NSW  2018-10-30T21:27:03.000+0000    16.33   \n",
       "12041              NaN            NaN  2018-10-31T14:00:00.000+0000    56.00   \n",
       "12042              NaN            NaN  2018-10-31T23:00:00.000+0000    39.00   \n",
       "\n",
       "                         transaction_id    country     customer_id  \\\n",
       "0      a623070bfead4541a6b0fff8a09e706c  Australia  CUS-2487424745   \n",
       "1      13270a2a902145da9db4c951e04b51b9  Australia  CUS-2487424745   \n",
       "2      329adf79878c4cf0aeb4188b4691c266  Australia  CUS-2487424745   \n",
       "3      1c12c9ad77894ef8b507fb091e41e928  Australia  CUS-2487424745   \n",
       "4      a72c9dd8b4614a1982ff71f8b62677ad  Australia  CUS-2487424745   \n",
       "...                                 ...        ...             ...   \n",
       "12038  d3bb8b156aa64be9a02eccba98f09435  Australia   CUS-261674136   \n",
       "12039  db9abbbe8d214174b79ff65ca421b0da  Australia   CUS-261674136   \n",
       "12040  02eb25c2447d4287bc5f62950f63130c  Australia   CUS-261674136   \n",
       "12041  1e4115fe5c8f4f74be8f9ddcd4ab3e8d  Australia   CUS-261674136   \n",
       "12042  c7bc398b9eb04e73933dc6d5a7beae0b  Australia   CUS-261674136   \n",
       "\n",
       "       merchant_long_lat movement salaryy_annual  \n",
       "0          153.38 -27.99    debit       56765.52  \n",
       "1          151.21 -33.87    debit       56765.52  \n",
       "2          153.44 -28.06    debit       56765.52  \n",
       "3           153.6 -28.63    debit       56765.52  \n",
       "4                    NaN   credit       56765.52  \n",
       "...                  ...      ...            ...  \n",
       "12038                NaN   credit      123348.40  \n",
       "12039                NaN    debit      123348.40  \n",
       "12040       150.04 -30.7    debit      123348.40  \n",
       "12041                NaN    debit      123348.40  \n",
       "12042                NaN    debit      123348.40  \n",
       "\n",
       "[12043 rows x 24 columns]"
      ]
     },
     "execution_count": 15,
     "metadata": {},
     "output_type": "execute_result"
    }
   ],
   "source": [
    "#Merge annual salary with original df using account as common column\n",
    "final=pd.merge(transact, salory, on=\"account\")\n",
    "final"
   ]
  },
  {
   "cell_type": "code",
   "execution_count": 16,
   "metadata": {},
   "outputs": [
    {
     "data": {
      "text/plain": [
       "array([[<AxesSubplot:title={'center':'salaryy_annual'}>]], dtype=object)"
      ]
     },
     "execution_count": 16,
     "metadata": {},
     "output_type": "execute_result"
    },
    {
     "data": {
      "image/png": "[encoded data removed]",
      "text/plain": [
       "<Figure size 720x360 with 1 Axes>"
      ]
     },
     "metadata": {
      "needs_background": "light"
     },
     "output_type": "display_data"
    }
   ],
   "source": [
    "#Trend of annual Salary of the customers in the dataset(in AUD)\n",
    "salory.hist(bins=10,figsize=(10,5))"
   ]
  },
  {
   "cell_type": "markdown",
   "metadata": {},
   "source": [
    "Annual Salary of all the customers of the dataset. Maximum number of people have annual salaries at around 40-50 thousand,following a gradual decline and a steep decline after 70,000 pa."
   ]
  },
  {
   "cell_type": "markdown",
   "metadata": {},
   "source": [
    "# Convert Categorical Variables and Cleaning Dataset"
   ]
  },
  {
   "cell_type": "code",
   "execution_count": 17,
   "metadata": {},
   "outputs": [
    {
     "data": {
      "text/html": [
       "<div>\n",
       "<style scoped>\n",
       "    .dataframe tbody tr th:only-of-type {\n",
       "        vertical-align: middle;\n",
       "    }\n",
       "\n",
       "    .dataframe tbody tr th {\n",
       "        vertical-align: top;\n",
       "    }\n",
       "\n",
       "    .dataframe thead th {\n",
       "        text-align: right;\n",
       "    }\n",
       "</style>\n",
       "<table border=\"1\" class=\"dataframe\">\n",
       "  <thead>\n",
       "    <tr style=\"text-align: right;\">\n",
       "      <th></th>\n",
       "      <th>authorized</th>\n",
       "      <th>posted</th>\n",
       "    </tr>\n",
       "  </thead>\n",
       "  <tbody>\n",
       "    <tr>\n",
       "      <th>0</th>\n",
       "      <td>1</td>\n",
       "      <td>0</td>\n",
       "    </tr>\n",
       "    <tr>\n",
       "      <th>1</th>\n",
       "      <td>1</td>\n",
       "      <td>0</td>\n",
       "    </tr>\n",
       "    <tr>\n",
       "      <th>2</th>\n",
       "      <td>1</td>\n",
       "      <td>0</td>\n",
       "    </tr>\n",
       "    <tr>\n",
       "      <th>3</th>\n",
       "      <td>1</td>\n",
       "      <td>0</td>\n",
       "    </tr>\n",
       "    <tr>\n",
       "      <th>4</th>\n",
       "      <td>1</td>\n",
       "      <td>0</td>\n",
       "    </tr>\n",
       "    <tr>\n",
       "      <th>...</th>\n",
       "      <td>...</td>\n",
       "      <td>...</td>\n",
       "    </tr>\n",
       "    <tr>\n",
       "      <th>12038</th>\n",
       "      <td>1</td>\n",
       "      <td>0</td>\n",
       "    </tr>\n",
       "    <tr>\n",
       "      <th>12039</th>\n",
       "      <td>1</td>\n",
       "      <td>0</td>\n",
       "    </tr>\n",
       "    <tr>\n",
       "      <th>12040</th>\n",
       "      <td>1</td>\n",
       "      <td>0</td>\n",
       "    </tr>\n",
       "    <tr>\n",
       "      <th>12041</th>\n",
       "      <td>1</td>\n",
       "      <td>0</td>\n",
       "    </tr>\n",
       "    <tr>\n",
       "      <th>12042</th>\n",
       "      <td>1</td>\n",
       "      <td>0</td>\n",
       "    </tr>\n",
       "  </tbody>\n",
       "</table>\n",
       "<p>12043 rows × 2 columns</p>\n",
       "</div>"
      ],
      "text/plain": [
       "       authorized  posted\n",
       "0               1       0\n",
       "1               1       0\n",
       "2               1       0\n",
       "3               1       0\n",
       "4               1       0\n",
       "...           ...     ...\n",
       "12038           1       0\n",
       "12039           1       0\n",
       "12040           1       0\n",
       "12041           1       0\n",
       "12042           1       0\n",
       "\n",
       "[12043 rows x 2 columns]"
      ]
     },
     "execution_count": 17,
     "metadata": {},
     "output_type": "execute_result"
    }
   ],
   "source": [
    "#Convert txn_description,gender and status into dummy variables\n",
    "desc=pd.get_dummies(transact['txn_description'])\n",
    "desc\n",
    "Gender=pd.get_dummies(transact['gender'])\n",
    "Gender\n",
    "status=state=pd.get_dummies(transact['status'])\n",
    "status"
   ]
  },
  {
   "cell_type": "code",
   "execution_count": 18,
   "metadata": {},
   "outputs": [
    {
     "data": {
      "text/plain": [
       "status                   0\n",
       "card_present_flag     4326\n",
       "bpay_biller_code     11158\n",
       "account                  0\n",
       "currency                 0\n",
       "long_lat                 0\n",
       "txn_description          0\n",
       "merchant_id           4326\n",
       "merchant_code        11160\n",
       "first_name               0\n",
       "balance                  0\n",
       "date                     0\n",
       "gender                   0\n",
       "age                      0\n",
       "merchant_suburb       4326\n",
       "merchant_state        4326\n",
       "extraction               0\n",
       "amount                   0\n",
       "transaction_id           0\n",
       "country                  0\n",
       "customer_id              0\n",
       "merchant_long_lat     4326\n",
       "movement                 0\n",
       "salaryy_annual           0\n",
       "INTER BANK               0\n",
       "PAY/SALARY               0\n",
       "PAYMENT                  0\n",
       "PHONE BANK               0\n",
       "POS                      0\n",
       "SALES-POS                0\n",
       "F                        0\n",
       "M                        0\n",
       "authorized               0\n",
       "posted                   0\n",
       "dtype: int64"
      ]
     },
     "execution_count": 18,
     "metadata": {},
     "output_type": "execute_result"
    }
   ],
   "source": [
    "#Concatenating all the df's\n",
    "final_df=pd.concat([final,desc,Gender,status],axis=1)\n",
    "final_df.isnull().sum()"
   ]
  },
  {
   "cell_type": "code",
   "execution_count": 19,
   "metadata": {},
   "outputs": [],
   "source": [
    "#Impute null values with mode as they are categorical variables or binary variables\n",
    "final_df['merchant_state']=final_df['merchant_state'].fillna(value='NSW')\n",
    "final_df['card_present_flag']=final_df['card_present_flag'].fillna(value=1.0)\n",
    "final_df['merchant_suburb']=final_df['merchant_suburb'].fillna(value='Melbourne')"
   ]
  },
  {
   "cell_type": "code",
   "execution_count": 20,
   "metadata": {},
   "outputs": [
    {
     "data": {
      "text/plain": [
       "0    Melbourne\n",
       "dtype: object"
      ]
     },
     "execution_count": 20,
     "metadata": {},
     "output_type": "execute_result"
    }
   ],
   "source": [
    "final_df['merchant_suburb'].mode()"
   ]
  },
  {
   "cell_type": "code",
   "execution_count": 21,
   "metadata": {},
   "outputs": [
    {
     "data": {
      "text/plain": [
       "0"
      ]
     },
     "execution_count": 21,
     "metadata": {},
     "output_type": "execute_result"
    }
   ],
   "source": [
    "#Merchant null values removed\n",
    "final_df['merchant_state'].isnull().sum()"
   ]
  },
  {
   "cell_type": "code",
   "execution_count": 22,
   "metadata": {},
   "outputs": [],
   "source": [
    "#Remove redunant columns or columns with high null values which cant be imputed or columns not used for our analysis\n",
    "final_df.drop(['bpay_biller_code', 'merchant_code','country','transaction_id','currency','merchant_id',\n",
    "              'merchant_long_lat'], axis=1, inplace=True)"
   ]
  },
  {
   "cell_type": "code",
   "execution_count": 23,
   "metadata": {},
   "outputs": [
    {
     "data": {
      "text/plain": [
       "status               0\n",
       "card_present_flag    0\n",
       "account              0\n",
       "long_lat             0\n",
       "txn_description      0\n",
       "first_name           0\n",
       "balance              0\n",
       "date                 0\n",
       "gender               0\n",
       "age                  0\n",
       "merchant_suburb      0\n",
       "merchant_state       0\n",
       "extraction           0\n",
       "amount               0\n",
       "customer_id          0\n",
       "movement             0\n",
       "salaryy_annual       0\n",
       "INTER BANK           0\n",
       "PAY/SALARY           0\n",
       "PAYMENT              0\n",
       "PHONE BANK           0\n",
       "POS                  0\n",
       "SALES-POS            0\n",
       "F                    0\n",
       "M                    0\n",
       "authorized           0\n",
       "posted               0\n",
       "dtype: int64"
      ]
     },
     "execution_count": 23,
     "metadata": {},
     "output_type": "execute_result"
    }
   ],
   "source": [
    "#Cleaned dataset\n",
    "final_df.isnull().sum()"
   ]
  },
  {
   "cell_type": "markdown",
   "metadata": {},
   "source": [
    "# Relationship of Annual Salaries with other Attributes"
   ]
  },
  {
   "cell_type": "code",
   "execution_count": 24,
   "metadata": {},
   "outputs": [
    {
     "data": {
      "text/html": [
       "<div>\n",
       "<style scoped>\n",
       "    .dataframe tbody tr th:only-of-type {\n",
       "        vertical-align: middle;\n",
       "    }\n",
       "\n",
       "    .dataframe tbody tr th {\n",
       "        vertical-align: top;\n",
       "    }\n",
       "\n",
       "    .dataframe thead th {\n",
       "        text-align: right;\n",
       "    }\n",
       "</style>\n",
       "<table border=\"1\" class=\"dataframe\">\n",
       "  <thead>\n",
       "    <tr style=\"text-align: right;\">\n",
       "      <th></th>\n",
       "      <th>salaryy_annual</th>\n",
       "    </tr>\n",
       "  </thead>\n",
       "  <tbody>\n",
       "    <tr>\n",
       "      <th>card_present_flag</th>\n",
       "      <td>0.031777</td>\n",
       "    </tr>\n",
       "    <tr>\n",
       "      <th>balance</th>\n",
       "      <td>0.253089</td>\n",
       "    </tr>\n",
       "    <tr>\n",
       "      <th>age</th>\n",
       "      <td>0.026425</td>\n",
       "    </tr>\n",
       "    <tr>\n",
       "      <th>amount</th>\n",
       "      <td>0.091213</td>\n",
       "    </tr>\n",
       "    <tr>\n",
       "      <th>salaryy_annual</th>\n",
       "      <td>1.000000</td>\n",
       "    </tr>\n",
       "    <tr>\n",
       "      <th>INTER BANK</th>\n",
       "      <td>0.000208</td>\n",
       "    </tr>\n",
       "    <tr>\n",
       "      <th>PAY/SALARY</th>\n",
       "      <td>-0.007488</td>\n",
       "    </tr>\n",
       "    <tr>\n",
       "      <th>PAYMENT</th>\n",
       "      <td>-0.011356</td>\n",
       "    </tr>\n",
       "    <tr>\n",
       "      <th>PHONE BANK</th>\n",
       "      <td>0.005010</td>\n",
       "    </tr>\n",
       "    <tr>\n",
       "      <th>POS</th>\n",
       "      <td>0.004096</td>\n",
       "    </tr>\n",
       "    <tr>\n",
       "      <th>SALES-POS</th>\n",
       "      <td>0.008990</td>\n",
       "    </tr>\n",
       "    <tr>\n",
       "      <th>F</th>\n",
       "      <td>0.000556</td>\n",
       "    </tr>\n",
       "    <tr>\n",
       "      <th>M</th>\n",
       "      <td>-0.000556</td>\n",
       "    </tr>\n",
       "    <tr>\n",
       "      <th>authorized</th>\n",
       "      <td>0.012751</td>\n",
       "    </tr>\n",
       "    <tr>\n",
       "      <th>posted</th>\n",
       "      <td>-0.012751</td>\n",
       "    </tr>\n",
       "  </tbody>\n",
       "</table>\n",
       "</div>"
      ],
      "text/plain": [
       "                   salaryy_annual\n",
       "card_present_flag        0.031777\n",
       "balance                  0.253089\n",
       "age                      0.026425\n",
       "amount                   0.091213\n",
       "salaryy_annual           1.000000\n",
       "INTER BANK               0.000208\n",
       "PAY/SALARY              -0.007488\n",
       "PAYMENT                 -0.011356\n",
       "PHONE BANK               0.005010\n",
       "POS                      0.004096\n",
       "SALES-POS                0.008990\n",
       "F                        0.000556\n",
       "M                       -0.000556\n",
       "authorized               0.012751\n",
       "posted                  -0.012751"
      ]
     },
     "execution_count": 24,
     "metadata": {},
     "output_type": "execute_result"
    }
   ],
   "source": [
    "#Correlation of annual salary with other customer attributes\n",
    "Salary_corr= final_df.corr()['salaryy_annual']\n",
    "Salary_corr\n",
    "Sc=pd.DataFrame(Salary_corr)\n",
    "Sc"
   ]
  },
  {
   "cell_type": "code",
   "execution_count": 25,
   "metadata": {},
   "outputs": [
    {
     "data": {
      "text/plain": [
       "<AxesSubplot:>"
      ]
     },
     "execution_count": 25,
     "metadata": {},
     "output_type": "execute_result"
    },
    {
     "data": {
      "image/png": "[encoded data removed]",
      "text/plain": [
       "<Figure size 720x432 with 2 Axes>"
      ]
     },
     "metadata": {
      "needs_background": "light"
     },
     "output_type": "display_data"
    }
   ],
   "source": [
    "plt.figure(figsize=(10,6))\n",
    "sns.heatmap(Sc,annot=True,cmap='coolwarm')"
   ]
  },
  {
   "cell_type": "code",
   "execution_count": 26,
   "metadata": {},
   "outputs": [
    {
     "data": {
      "text/plain": [
       "<seaborn.axisgrid.JointGrid at 0x2030d92f580>"
      ]
     },
     "execution_count": 26,
     "metadata": {},
     "output_type": "execute_result"
    },
    {
     "data": {
      "text/plain": [
       "<Figure size 576x720 with 0 Axes>"
      ]
     },
     "metadata": {},
     "output_type": "display_data"
    },
    {
     "data": {
      "image/png": "[encoded data removed]",
      "text/plain": [
       "<Figure size 432x432 with 3 Axes>"
      ]
     },
     "metadata": {
      "needs_background": "light"
     },
     "output_type": "display_data"
    }
   ],
   "source": [
    "plt.figure(figsize=(8,10))\n",
    "sns.jointplot(x='age',y='salaryy_annual',data=final_df)"
   ]
  },
  {
   "cell_type": "markdown",
   "metadata": {},
   "source": [
    "Majority of the customers in the dataset belongs to the age group 20-50,highest annual salary comes from a 40 year old customer.Peak salaries is for the age group of 30-45. Annual Salaries are clustered around 40,000-60,000 Ausie dollars, for people in the age group of 20-30 years,post which the distribution gets more scattered."
   ]
  },
  {
   "cell_type": "code",
   "execution_count": 27,
   "metadata": {},
   "outputs": [],
   "source": [
    "plot=pd.concat([final_df['card_present_flag'],final_df['status'],final_df['salaryy_annual'],final_df['age']],axis=1)"
   ]
  },
  {
   "cell_type": "code",
   "execution_count": 28,
   "metadata": {},
   "outputs": [],
   "source": [
    "age=pd.DataFrame(final_df['age'])\n",
    "bins = [18, 30, 40, 50, 60, 70, 120]\n",
    "labels = ['18-29', '30-39', '40-49', '50-59', '60-69', '70+']\n",
    "age['agerange'] = pd.cut(age.age, bins, labels = labels,include_lowest = True)"
   ]
  },
  {
   "cell_type": "code",
   "execution_count": 29,
   "metadata": {},
   "outputs": [
    {
     "data": {
      "text/html": [
       "<div>\n",
       "<style scoped>\n",
       "    .dataframe tbody tr th:only-of-type {\n",
       "        vertical-align: middle;\n",
       "    }\n",
       "\n",
       "    .dataframe tbody tr th {\n",
       "        vertical-align: top;\n",
       "    }\n",
       "\n",
       "    .dataframe thead th {\n",
       "        text-align: right;\n",
       "    }\n",
       "</style>\n",
       "<table border=\"1\" class=\"dataframe\">\n",
       "  <thead>\n",
       "    <tr style=\"text-align: right;\">\n",
       "      <th></th>\n",
       "      <th>card_present_flag</th>\n",
       "      <th>status</th>\n",
       "      <th>salaryy_annual</th>\n",
       "      <th>age</th>\n",
       "    </tr>\n",
       "  </thead>\n",
       "  <tbody>\n",
       "    <tr>\n",
       "      <th>0</th>\n",
       "      <td>1.0</td>\n",
       "      <td>authorized</td>\n",
       "      <td>56765.52</td>\n",
       "      <td>26</td>\n",
       "    </tr>\n",
       "    <tr>\n",
       "      <th>1</th>\n",
       "      <td>0.0</td>\n",
       "      <td>authorized</td>\n",
       "      <td>56765.52</td>\n",
       "      <td>26</td>\n",
       "    </tr>\n",
       "    <tr>\n",
       "      <th>2</th>\n",
       "      <td>1.0</td>\n",
       "      <td>authorized</td>\n",
       "      <td>56765.52</td>\n",
       "      <td>26</td>\n",
       "    </tr>\n",
       "    <tr>\n",
       "      <th>3</th>\n",
       "      <td>1.0</td>\n",
       "      <td>authorized</td>\n",
       "      <td>56765.52</td>\n",
       "      <td>26</td>\n",
       "    </tr>\n",
       "    <tr>\n",
       "      <th>4</th>\n",
       "      <td>1.0</td>\n",
       "      <td>posted</td>\n",
       "      <td>56765.52</td>\n",
       "      <td>26</td>\n",
       "    </tr>\n",
       "    <tr>\n",
       "      <th>...</th>\n",
       "      <td>...</td>\n",
       "      <td>...</td>\n",
       "      <td>...</td>\n",
       "      <td>...</td>\n",
       "    </tr>\n",
       "    <tr>\n",
       "      <th>12038</th>\n",
       "      <td>1.0</td>\n",
       "      <td>posted</td>\n",
       "      <td>123348.40</td>\n",
       "      <td>29</td>\n",
       "    </tr>\n",
       "    <tr>\n",
       "      <th>12039</th>\n",
       "      <td>1.0</td>\n",
       "      <td>posted</td>\n",
       "      <td>123348.40</td>\n",
       "      <td>29</td>\n",
       "    </tr>\n",
       "    <tr>\n",
       "      <th>12040</th>\n",
       "      <td>1.0</td>\n",
       "      <td>authorized</td>\n",
       "      <td>123348.40</td>\n",
       "      <td>29</td>\n",
       "    </tr>\n",
       "    <tr>\n",
       "      <th>12041</th>\n",
       "      <td>1.0</td>\n",
       "      <td>posted</td>\n",
       "      <td>123348.40</td>\n",
       "      <td>29</td>\n",
       "    </tr>\n",
       "    <tr>\n",
       "      <th>12042</th>\n",
       "      <td>1.0</td>\n",
       "      <td>posted</td>\n",
       "      <td>123348.40</td>\n",
       "      <td>29</td>\n",
       "    </tr>\n",
       "  </tbody>\n",
       "</table>\n",
       "<p>12043 rows × 4 columns</p>\n",
       "</div>"
      ],
      "text/plain": [
       "       card_present_flag      status  salaryy_annual  age\n",
       "0                    1.0  authorized        56765.52   26\n",
       "1                    0.0  authorized        56765.52   26\n",
       "2                    1.0  authorized        56765.52   26\n",
       "3                    1.0  authorized        56765.52   26\n",
       "4                    1.0      posted        56765.52   26\n",
       "...                  ...         ...             ...  ...\n",
       "12038                1.0      posted       123348.40   29\n",
       "12039                1.0      posted       123348.40   29\n",
       "12040                1.0  authorized       123348.40   29\n",
       "12041                1.0      posted       123348.40   29\n",
       "12042                1.0      posted       123348.40   29\n",
       "\n",
       "[12043 rows x 4 columns]"
      ]
     },
     "execution_count": 29,
     "metadata": {},
     "output_type": "execute_result"
    }
   ],
   "source": [
    "plot"
   ]
  },
  {
   "cell_type": "code",
   "execution_count": 30,
   "metadata": {},
   "outputs": [
    {
     "data": {
      "text/html": [
       "<div>\n",
       "<style scoped>\n",
       "    .dataframe tbody tr th:only-of-type {\n",
       "        vertical-align: middle;\n",
       "    }\n",
       "\n",
       "    .dataframe tbody tr th {\n",
       "        vertical-align: top;\n",
       "    }\n",
       "\n",
       "    .dataframe thead th {\n",
       "        text-align: right;\n",
       "    }\n",
       "</style>\n",
       "<table border=\"1\" class=\"dataframe\">\n",
       "  <thead>\n",
       "    <tr style=\"text-align: right;\">\n",
       "      <th></th>\n",
       "      <th>card_present_flag</th>\n",
       "      <th>status</th>\n",
       "      <th>salaryy_annual</th>\n",
       "      <th>age</th>\n",
       "      <th>agerange</th>\n",
       "    </tr>\n",
       "  </thead>\n",
       "  <tbody>\n",
       "    <tr>\n",
       "      <th>0</th>\n",
       "      <td>1.0</td>\n",
       "      <td>authorized</td>\n",
       "      <td>56765.52</td>\n",
       "      <td>26</td>\n",
       "      <td>18-29</td>\n",
       "    </tr>\n",
       "    <tr>\n",
       "      <th>1</th>\n",
       "      <td>1.0</td>\n",
       "      <td>authorized</td>\n",
       "      <td>56765.52</td>\n",
       "      <td>26</td>\n",
       "      <td>18-29</td>\n",
       "    </tr>\n",
       "    <tr>\n",
       "      <th>2</th>\n",
       "      <td>1.0</td>\n",
       "      <td>authorized</td>\n",
       "      <td>56765.52</td>\n",
       "      <td>26</td>\n",
       "      <td>18-29</td>\n",
       "    </tr>\n",
       "    <tr>\n",
       "      <th>3</th>\n",
       "      <td>1.0</td>\n",
       "      <td>authorized</td>\n",
       "      <td>56765.52</td>\n",
       "      <td>26</td>\n",
       "      <td>18-29</td>\n",
       "    </tr>\n",
       "    <tr>\n",
       "      <th>4</th>\n",
       "      <td>1.0</td>\n",
       "      <td>authorized</td>\n",
       "      <td>56765.52</td>\n",
       "      <td>26</td>\n",
       "      <td>18-29</td>\n",
       "    </tr>\n",
       "    <tr>\n",
       "      <th>...</th>\n",
       "      <td>...</td>\n",
       "      <td>...</td>\n",
       "      <td>...</td>\n",
       "      <td>...</td>\n",
       "      <td>...</td>\n",
       "    </tr>\n",
       "    <tr>\n",
       "      <th>6481726</th>\n",
       "      <td>1.0</td>\n",
       "      <td>posted</td>\n",
       "      <td>123348.40</td>\n",
       "      <td>29</td>\n",
       "      <td>18-29</td>\n",
       "    </tr>\n",
       "    <tr>\n",
       "      <th>6481727</th>\n",
       "      <td>1.0</td>\n",
       "      <td>posted</td>\n",
       "      <td>123348.40</td>\n",
       "      <td>29</td>\n",
       "      <td>18-29</td>\n",
       "    </tr>\n",
       "    <tr>\n",
       "      <th>6481728</th>\n",
       "      <td>1.0</td>\n",
       "      <td>posted</td>\n",
       "      <td>123348.40</td>\n",
       "      <td>29</td>\n",
       "      <td>18-29</td>\n",
       "    </tr>\n",
       "    <tr>\n",
       "      <th>6481729</th>\n",
       "      <td>1.0</td>\n",
       "      <td>posted</td>\n",
       "      <td>123348.40</td>\n",
       "      <td>29</td>\n",
       "      <td>18-29</td>\n",
       "    </tr>\n",
       "    <tr>\n",
       "      <th>6481730</th>\n",
       "      <td>1.0</td>\n",
       "      <td>posted</td>\n",
       "      <td>123348.40</td>\n",
       "      <td>29</td>\n",
       "      <td>18-29</td>\n",
       "    </tr>\n",
       "  </tbody>\n",
       "</table>\n",
       "<p>6481731 rows × 5 columns</p>\n",
       "</div>"
      ],
      "text/plain": [
       "         card_present_flag      status  salaryy_annual  age agerange\n",
       "0                      1.0  authorized        56765.52   26    18-29\n",
       "1                      1.0  authorized        56765.52   26    18-29\n",
       "2                      1.0  authorized        56765.52   26    18-29\n",
       "3                      1.0  authorized        56765.52   26    18-29\n",
       "4                      1.0  authorized        56765.52   26    18-29\n",
       "...                    ...         ...             ...  ...      ...\n",
       "6481726                1.0      posted       123348.40   29    18-29\n",
       "6481727                1.0      posted       123348.40   29    18-29\n",
       "6481728                1.0      posted       123348.40   29    18-29\n",
       "6481729                1.0      posted       123348.40   29    18-29\n",
       "6481730                1.0      posted       123348.40   29    18-29\n",
       "\n",
       "[6481731 rows x 5 columns]"
      ]
     },
     "execution_count": 30,
     "metadata": {},
     "output_type": "execute_result"
    }
   ],
   "source": [
    "plott=plot.merge(age,on='age')\n",
    "plott"
   ]
  },
  {
   "cell_type": "code",
   "execution_count": 31,
   "metadata": {},
   "outputs": [
    {
     "name": "stderr",
     "output_type": "stream",
     "text": [
      "C:\\Users\\sanja\\anaconda3\\lib\\site-packages\\seaborn\\_decorators.py:36: FutureWarning: Pass the following variable as a keyword arg: x. From version 0.12, the only valid positional argument will be `data`, and passing other arguments without an explicit keyword will result in an error or misinterpretation.\n",
      "  warnings.warn(\n"
     ]
    },
    {
     "data": {
      "text/plain": [
       "<AxesSubplot:xlabel='card_present_flag', ylabel='count'>"
      ]
     },
     "execution_count": 31,
     "metadata": {},
     "output_type": "execute_result"
    },
    {
     "data": {
      "image/png": "[encoded data removed]",
      "text/plain": [
       "<Figure size 432x288 with 1 Axes>"
      ]
     },
     "metadata": {
      "needs_background": "light"
     },
     "output_type": "display_data"
    }
   ],
   "source": [
    "#Attributes with age\n",
    "sns.countplot(plott['card_present_flag'],hue=plott['agerange'])"
   ]
  },
  {
   "cell_type": "code",
   "execution_count": 32,
   "metadata": {},
   "outputs": [
    {
     "data": {
      "text/plain": [
       "<AxesSubplot:xlabel='agerange', ylabel='salaryy_annual'>"
      ]
     },
     "execution_count": 32,
     "metadata": {},
     "output_type": "execute_result"
    },
    {
     "data": {
      "image/png": "[encoded data removed]",
      "text/plain": [
       "<Figure size 720x360 with 1 Axes>"
      ]
     },
     "metadata": {
      "needs_background": "light"
     },
     "output_type": "display_data"
    }
   ],
   "source": [
    "#Relationship of annual salary with age range\n",
    "plt.figure(figsize=(10,5))\n",
    "sns.boxplot(data=plott, y=\"salaryy_annual\", x=\"agerange\")"
   ]
  },
  {
   "cell_type": "code",
   "execution_count": 33,
   "metadata": {},
   "outputs": [
    {
     "data": {
      "text/plain": [
       "<AxesSubplot:xlabel='gender', ylabel='salaryy_annual'>"
      ]
     },
     "execution_count": 33,
     "metadata": {},
     "output_type": "execute_result"
    },
    {
     "data": {
      "image/png": "[encoded data removed]",
      "text/plain": [
       "<Figure size 432x288 with 1 Axes>"
      ]
     },
     "metadata": {
      "needs_background": "light"
     },
     "output_type": "display_data"
    }
   ],
   "source": [
    "sns.boxplot(x='gender',y='salaryy_annual',data=final_df)"
   ]
  },
  {
   "cell_type": "markdown",
   "metadata": {},
   "source": [
    "Median annual salary for both female and males are same at 60,000. Higher proportion of males have their annual salaries lying at third quartile as comapred to females. Number of males in the dataset are more than females and the wage disparity starts to show as salary increases. Interestingly, even the upper limit of Males annual salary is not equivalent to the higher outlier of female annual salary. Upper limit of Female annual salary stands at 120,000 while for males its 140,000."
   ]
  },
  {
   "cell_type": "code",
   "execution_count": 34,
   "metadata": {},
   "outputs": [
    {
     "data": {
      "text/plain": [
       "<AxesSubplot:xlabel='txn_description', ylabel='salaryy_annual'>"
      ]
     },
     "execution_count": 34,
     "metadata": {},
     "output_type": "execute_result"
    },
    {
     "data": {
      "image/png": "[encoded data removed]",
      "text/plain": [
       "<Figure size 720x360 with 1 Axes>"
      ]
     },
     "metadata": {
      "needs_background": "light"
     },
     "output_type": "display_data"
    }
   ],
   "source": [
    "plt.figure(figsize=(10,5))\n",
    "sns.boxplot(x='txn_description',y='salaryy_annual',data=final_df)"
   ]
  },
  {
   "cell_type": "markdown",
   "metadata": {},
   "source": [
    "People with higher salary prefer phone bank as their mode of transaction whereas people in the lower end of the annual salary find themselves using POS followed by Salary account as compared to other modes of transaction. Highest variability in annual salary can be observed under payment mode of transaction."
   ]
  },
  {
   "cell_type": "code",
   "execution_count": 35,
   "metadata": {},
   "outputs": [
    {
     "name": "stderr",
     "output_type": "stream",
     "text": [
      "C:\\Users\\sanja\\anaconda3\\lib\\site-packages\\seaborn\\categorical.py:2792: UserWarning: The `split` parameter has been renamed to `dodge`.\n",
      "  warnings.warn(msg, UserWarning)\n"
     ]
    },
    {
     "data": {
      "text/plain": [
       "<AxesSubplot:xlabel='movement', ylabel='salaryy_annual'>"
      ]
     },
     "execution_count": 35,
     "metadata": {},
     "output_type": "execute_result"
    },
    {
     "data": {
      "image/png": "[encoded data removed]",
      "text/plain": [
       "<Figure size 720x360 with 1 Axes>"
      ]
     },
     "metadata": {
      "needs_background": "light"
     },
     "output_type": "display_data"
    }
   ],
   "source": [
    "plt.figure(figsize=(10,5))\n",
    "sns.stripplot(x='movement',y='salaryy_annual',data=final_df,hue='gender',jitter=True,split=True)"
   ]
  },
  {
   "cell_type": "markdown",
   "metadata": {},
   "source": [
    "Credit transactions are lesser than debit transactions in the dataset. In the range of 40,000- 80,000, men have more concentrated observations of debit transactions after which distributions are more spread out.It could also be the case that since its a card transaction data, more debit cases are observed."
   ]
  },
  {
   "cell_type": "code",
   "execution_count": 36,
   "metadata": {},
   "outputs": [
    {
     "data": {
      "text/plain": [
       "<AxesSubplot:xlabel='merchant_state', ylabel='salaryy_annual'>"
      ]
     },
     "execution_count": 36,
     "metadata": {},
     "output_type": "execute_result"
    },
    {
     "data": {
      "image/png": "[encoded data removed]",
      "text/plain": [
       "<Figure size 720x360 with 1 Axes>"
      ]
     },
     "metadata": {
      "needs_background": "light"
     },
     "output_type": "display_data"
    }
   ],
   "source": [
    "#Merchant state and annual salary \n",
    "plt.figure(figsize=(10,5))\n",
    "sns.stripplot(x='merchant_state',y='salaryy_annual',data=final_df,jitter=True)"
   ]
  },
  {
   "cell_type": "markdown",
   "metadata": {},
   "source": [
    "People with higher salary can be observed in the merchant states of NSW (New South Wales) and Western Australia implying that these customers might be spending in these areas or using merchant bank services. NT,ACT and TAS states can be ignored for our analysis since no significant activity can be observed in these areas.\n"
   ]
  },
  {
   "cell_type": "code",
   "execution_count": 37,
   "metadata": {},
   "outputs": [
    {
     "data": {
      "text/plain": [
       "<AxesSubplot:xlabel='status', ylabel='salaryy_annual'>"
      ]
     },
     "execution_count": 37,
     "metadata": {},
     "output_type": "execute_result"
    },
    {
     "data": {
      "image/png": "[encoded data removed]",
      "text/plain": [
       "<Figure size 576x720 with 1 Axes>"
      ]
     },
     "metadata": {
      "needs_background": "light"
     },
     "output_type": "display_data"
    }
   ],
   "source": [
    "#Status of card transactions and annual salary\n",
    "plt.figure(figsize=(8,10))\n",
    "sns.boxplot(x='status',y='salaryy_annual',data=final_df)"
   ]
  },
  {
   "cell_type": "markdown",
   "metadata": {},
   "source": [
    "Authorized transactions refers to those transactions that are yet to be settled by the service provider, kind of pending charge or hold of the payment in order to guarantee that the client’s account has a sufficient sum of funds which can cover the price of the product/service. whereas posted transactions are 100% complete\n",
    "\n",
    "As the annual salary increases, more observations are classified under posted or transactions that are settled instantly, safe accounts. While higher proportion of authorized transaction lies in the range of around 58,000-78,000 pa. Overall dataset has more observations on the posted transaction side.Maximum salary classified under authorized stands at 120,000 pa."
   ]
  },
  {
   "cell_type": "code",
   "execution_count": 39,
   "metadata": {},
   "outputs": [
    {
     "data": {
      "text/plain": [
       "<AxesSubplot:xlabel='card_present_flag', ylabel='salaryy_annual'>"
      ]
     },
     "execution_count": 39,
     "metadata": {},
     "output_type": "execute_result"
    },
    {
     "data": {
      "image/png": "[encoded data removed]",
      "text/plain": [
       "<Figure size 720x576 with 1 Axes>"
      ]
     },
     "metadata": {
      "needs_background": "light"
     },
     "output_type": "display_data"
    }
   ],
   "source": [
    "#Flagged card transactions and annual salary\n",
    "plt.figure(figsize=(10,8))\n",
    "sns.boxplot(x='card_present_flag',y='salaryy_annual',data=final_df,hue='gender')"
   ]
  },
  {
   "cell_type": "markdown",
   "metadata": {},
   "source": [
    "Grpahical representation of flagged/ non flagged transactions with annual salaries,classified by gender.   \n",
    "Suspicious transactions are flagged whereas safe transactions are not flagged.The proportion of flagged transactions is higher than non flagged. Range of salaries for flagged transactions is higher, showing higher variability. "
   ]
  },
  {
   "cell_type": "markdown",
   "metadata": {},
   "source": [
    "# Derived attribute from the Dataset"
   ]
  },
  {
   "cell_type": "code",
   "execution_count": 88,
   "metadata": {},
   "outputs": [],
   "source": [
    "#Average expenditure by each customer\n",
    "avg_exp=transact.groupby('customer_id')['amount'].mean()\n",
    "avg_exp=pd.Series(avg_exp)\n",
    "avg_exp=pd.to_numeric(avg_exp)\n",
    "avg_exp=pd.DataFrame(avg_exp)\n",
    "avg_exp = pd.DataFrame(avg_exp).reset_index()\n",
    "avg_exp.columns = ['customer_id', 'Mean_Exp']"
   ]
  },
  {
   "cell_type": "code",
   "execution_count": 41,
   "metadata": {},
   "outputs": [],
   "source": [
    "final_dff=pd.merge(final_df, avg_exp, on=\"customer_id\")"
   ]
  },
  {
   "cell_type": "code",
   "execution_count": 42,
   "metadata": {},
   "outputs": [],
   "source": [
    "final_dff[['Flag','Not_Flagged']]=pd.get_dummies(final_dff['card_present_flag'])\n",
    "final_dff[['debit','credit']]=pd.get_dummies(final_dff['movement'])"
   ]
  },
  {
   "cell_type": "code",
   "execution_count": 43,
   "metadata": {},
   "outputs": [
    {
     "data": {
      "text/plain": [
       "0        1.0\n",
       "1        0.0\n",
       "2        1.0\n",
       "3        1.0\n",
       "4        1.0\n",
       "        ... \n",
       "12038    1.0\n",
       "12039    1.0\n",
       "12040    1.0\n",
       "12041    1.0\n",
       "12042    1.0\n",
       "Name: card_present_flag, Length: 12043, dtype: float64"
      ]
     },
     "execution_count": 43,
     "metadata": {},
     "output_type": "execute_result"
    }
   ],
   "source": [
    "final_dff['card_present_flag']"
   ]
  },
  {
   "cell_type": "code",
   "execution_count": 44,
   "metadata": {},
   "outputs": [
    {
     "name": "stdout",
     "output_type": "stream",
     "text": [
      "<class 'pandas.core.frame.DataFrame'>\n",
      "Int64Index: 12043 entries, 0 to 12042\n",
      "Data columns (total 32 columns):\n",
      " #   Column             Non-Null Count  Dtype         \n",
      "---  ------             --------------  -----         \n",
      " 0   status             12043 non-null  object        \n",
      " 1   card_present_flag  12043 non-null  float64       \n",
      " 2   account            12043 non-null  object        \n",
      " 3   long_lat           12043 non-null  object        \n",
      " 4   txn_description    12043 non-null  object        \n",
      " 5   first_name         12043 non-null  object        \n",
      " 6   balance            12043 non-null  float64       \n",
      " 7   date               12043 non-null  datetime64[ns]\n",
      " 8   gender             12043 non-null  object        \n",
      " 9   age                12043 non-null  int64         \n",
      " 10  merchant_suburb    12043 non-null  object        \n",
      " 11  merchant_state     12043 non-null  object        \n",
      " 12  extraction         12043 non-null  object        \n",
      " 13  amount             12043 non-null  float64       \n",
      " 14  customer_id        12043 non-null  object        \n",
      " 15  movement           12043 non-null  object        \n",
      " 16  salaryy_annual     12043 non-null  float64       \n",
      " 17  INTER BANK         12043 non-null  uint8         \n",
      " 18  PAY/SALARY         12043 non-null  uint8         \n",
      " 19  PAYMENT            12043 non-null  uint8         \n",
      " 20  PHONE BANK         12043 non-null  uint8         \n",
      " 21  POS                12043 non-null  uint8         \n",
      " 22  SALES-POS          12043 non-null  uint8         \n",
      " 23  F                  12043 non-null  uint8         \n",
      " 24  M                  12043 non-null  uint8         \n",
      " 25  authorized         12043 non-null  uint8         \n",
      " 26  posted             12043 non-null  uint8         \n",
      " 27  Mean_Exp           12043 non-null  float64       \n",
      " 28  Flag               12043 non-null  uint8         \n",
      " 29  Not_Flagged        12043 non-null  uint8         \n",
      " 30  debit              12043 non-null  uint8         \n",
      " 31  credit             12043 non-null  uint8         \n",
      "dtypes: datetime64[ns](1), float64(5), int64(1), object(11), uint8(14)\n",
      "memory usage: 1.9+ MB\n"
     ]
    }
   ],
   "source": [
    "final_dff.info()"
   ]
  },
  {
   "cell_type": "code",
   "execution_count": 126,
   "metadata": {},
   "outputs": [
    {
     "data": {
      "text/plain": [
       "<seaborn.axisgrid.JointGrid at 0x2031c7a2f40>"
      ]
     },
     "execution_count": 126,
     "metadata": {},
     "output_type": "execute_result"
    },
    {
     "data": {
      "image/png": "[encoded data removed]",
      "text/plain": [
       "<Figure size 432x432 with 3 Axes>"
      ]
     },
     "metadata": {
      "needs_background": "light"
     },
     "output_type": "display_data"
    }
   ],
   "source": [
    "#Direct Relationship between mean expenditure and annual salary\n",
    "sns.jointplot(x='Mean_Exp',y='salaryy_annual',data=final_dff)"
   ]
  },
  {
   "cell_type": "code",
   "execution_count": 130,
   "metadata": {},
   "outputs": [
    {
     "data": {
      "text/plain": [
       "0.5420431540866734"
      ]
     },
     "execution_count": 130,
     "metadata": {},
     "output_type": "execute_result"
    }
   ],
   "source": [
    "final_dff['salaryy_annual'].corr(final_dff['Mean_Exp'])"
   ]
  },
  {
   "cell_type": "markdown",
   "metadata": {},
   "source": [
    "# Predictive Analysis"
   ]
  },
  {
   "cell_type": "markdown",
   "metadata": {},
   "source": [
    "# Linear Regression"
   ]
  },
  {
   "cell_type": "code",
   "execution_count": 131,
   "metadata": {},
   "outputs": [],
   "source": [
    "from sklearn.linear_model import LinearRegression"
   ]
  },
  {
   "cell_type": "code",
   "execution_count": 132,
   "metadata": {},
   "outputs": [],
   "source": [
    "lr=LinearRegression(normalize=True)"
   ]
  },
  {
   "cell_type": "code",
   "execution_count": 133,
   "metadata": {},
   "outputs": [],
   "source": [
    "X= final_dff[['age','F','M','balance','INTER BANK','PAY/SALARY','PAYMENT','PHONE BANK','POS','SALES-POS','Mean_Exp',\n",
    "              'authorized','posted','Not_Flagged','Flag','credit','debit','balance','amount']]\n",
    "y= final_dff['salaryy_annual']"
   ]
  },
  {
   "cell_type": "code",
   "execution_count": 134,
   "metadata": {},
   "outputs": [],
   "source": [
    "from sklearn.model_selection import train_test_split"
   ]
  },
  {
   "cell_type": "code",
   "execution_count": 135,
   "metadata": {},
   "outputs": [],
   "source": [
    "X_train, X_test, y_train, y_test = train_test_split( X, y, test_size=0.3)"
   ]
  },
  {
   "cell_type": "code",
   "execution_count": 136,
   "metadata": {},
   "outputs": [
    {
     "data": {
      "text/plain": [
       "LinearRegression(normalize=True)"
      ]
     },
     "execution_count": 136,
     "metadata": {},
     "output_type": "execute_result"
    }
   ],
   "source": [
    "lr.fit(X_train,y_train)"
   ]
  },
  {
   "cell_type": "code",
   "execution_count": 137,
   "metadata": {},
   "outputs": [],
   "source": [
    "predictions=lr.predict(X_test)"
   ]
  },
  {
   "cell_type": "code",
   "execution_count": 138,
   "metadata": {},
   "outputs": [
    {
     "data": {
      "text/plain": [
       "0.3262176281082091"
      ]
     },
     "execution_count": 138,
     "metadata": {},
     "output_type": "execute_result"
    }
   ],
   "source": [
    "lr.score(X_test,y_test)"
   ]
  },
  {
   "cell_type": "code",
   "execution_count": 139,
   "metadata": {},
   "outputs": [
    {
     "data": {
      "text/plain": [
       "0.3262176281082091"
      ]
     },
     "execution_count": 139,
     "metadata": {},
     "output_type": "execute_result"
    }
   ],
   "source": [
    "from sklearn.metrics import r2_score\n",
    "r2_score(y_test,predictions)"
   ]
  },
  {
   "cell_type": "markdown",
   "metadata": {},
   "source": [
    "# Decision Tree Classifier"
   ]
  },
  {
   "cell_type": "code",
   "execution_count": 140,
   "metadata": {},
   "outputs": [],
   "source": [
    "from sklearn.tree import DecisionTreeRegressor"
   ]
  },
  {
   "cell_type": "code",
   "execution_count": 141,
   "metadata": {},
   "outputs": [],
   "source": [
    "dtree= DecisionTreeRegressor()"
   ]
  },
  {
   "cell_type": "code",
   "execution_count": 142,
   "metadata": {},
   "outputs": [],
   "source": [
    "X1= final_dff[['age','F','M','INTER BANK','PAY/SALARY','PAYMENT','PHONE BANK','POS','SALES-POS','balance',\n",
    "               'authorized','posted','Not_Flagged','Flag','credit','debit']]\n",
    "y1=final_dff['salaryy_annual']"
   ]
  },
  {
   "cell_type": "code",
   "execution_count": 143,
   "metadata": {},
   "outputs": [],
   "source": [
    "X1_train, X1_test, y1_train, y1_test = train_test_split( X1, y1, test_size=0.3)"
   ]
  },
  {
   "cell_type": "code",
   "execution_count": 144,
   "metadata": {},
   "outputs": [
    {
     "data": {
      "text/plain": [
       "DecisionTreeRegressor()"
      ]
     },
     "execution_count": 144,
     "metadata": {},
     "output_type": "execute_result"
    }
   ],
   "source": [
    "dtree.fit(X1_train, y1_train)"
   ]
  },
  {
   "cell_type": "code",
   "execution_count": 145,
   "metadata": {},
   "outputs": [],
   "source": [
    "prediction=dtree.predict(X1_test)"
   ]
  },
  {
   "cell_type": "code",
   "execution_count": 146,
   "metadata": {},
   "outputs": [
    {
     "data": {
      "text/plain": [
       "0.6361349274945827"
      ]
     },
     "execution_count": 146,
     "metadata": {},
     "output_type": "execute_result"
    }
   ],
   "source": [
    "dtree.score(X1_test,y1_test)"
   ]
  },
  {
   "cell_type": "code",
   "execution_count": 147,
   "metadata": {},
   "outputs": [
    {
     "data": {
      "text/plain": [
       "0.6361349274945827"
      ]
     },
     "execution_count": 147,
     "metadata": {},
     "output_type": "execute_result"
    }
   ],
   "source": [
    "from sklearn.metrics import r2_score\n",
    "r2_score(y1_test,prediction)"
   ]
  },
  {
   "cell_type": "markdown",
   "metadata": {},
   "source": [
    "Decision Tree is a better model as compared to Linear Regression to predict annual salary of the customers because of tree algorithms are robust to outliers"
   ]
  },
  {
   "cell_type": "code",
   "execution_count": null,
   "metadata": {},
   "outputs": [],
   "source": []
  }
 ],
 "metadata": {
  "kernelspec": {
   "display_name": "Python 3",
   "language": "python",
   "name": "python3"
  },
  "language_info": {
   "codemirror_mode": {
    "name": "ipython",
    "version": 3
   },
   "file_extension": ".py",
   "mimetype": "text/x-python",
   "name": "python",
   "nbconvert_exporter": "python",
   "pygments_lexer": "ipython3",
   "version": "3.8.5"
  }
 },
 "nbformat": 4,
 "nbformat_minor": 2
}
